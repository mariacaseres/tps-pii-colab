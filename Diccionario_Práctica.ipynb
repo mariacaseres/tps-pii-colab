{
  "nbformat": 4,
  "nbformat_minor": 0,
  "metadata": {
    "colab": {
      "provenance": [],
      "include_colab_link": true
    },
    "kernelspec": {
      "name": "python3",
      "display_name": "Python 3"
    },
    "language_info": {
      "name": "python"
    }
  },
  "cells": [
    {
      "cell_type": "markdown",
      "metadata": {
        "id": "view-in-github",
        "colab_type": "text"
      },
      "source": [
        "<a href=\"https://colab.research.google.com/github/mariacaseres/tps-pii-colab/blob/main/Diccionario_Pr%C3%A1ctica.ipynb\" target=\"_parent\"><img src=\"https://colab.research.google.com/assets/colab-badge.svg\" alt=\"Open In Colab\"/></a>"
      ]
    },
    {
      "cell_type": "code",
      "execution_count": 52,
      "metadata": {
        "id": "8VOD-zpMJovw"
      },
      "outputs": [],
      "source": [
        "# Listas de alumnos\n",
        "estudiantes_5d = [\n",
        "   (\"Alurralde, Solange Stefania\",\"D\",\"02/04/2007\"),\n",
        "   (\"Alvarado, Ludmila Del Milagro\",\"D\",\"06/09/2006\"),\n",
        "   (\"Angel, Camila Juliana\",\"D\",\"07/03/2007\"),\n",
        "   (\"Arenas, Lucas Gabriel\",\"D\",\"26/06/2007\"),\n",
        "   (\"Caseres, Maria Antonia\",\"D\",\"01/07/2006\"),\n",
        "   (\"Castillo, Paulina Milagros\",\"D\",\"01/06/2007\"),\n",
        "   (\"Correa Segovia, Hugo Mariano\",\"D\",\"04/12/2006\"),\n",
        "   (\"D Elia, Alvaro Tadeo\",\"D\",\"27/08/2006\"),\n",
        "   (\"Flores, Victoria Agustina\",\"D\",\"12/12/2006\"),\n",
        "   (\"Geronimo Soriano, Lizzie Amaya\",\"D\",\"20/01/2007\"),\n",
        "   (\"GUZMAN, ANGÉLICA MORENA\",\"D\",\"11/04/2007\"),\n",
        "   (\"Guzman, Jazmin Esmeralda Belen\",\"D\",\"31/07/2006\"),\n",
        "   (\"Jaime, Anita Maria Belen\",\"D\",\"19/04/2007\"),\n",
        "   (\"Lacour Polo, Nazarena\",\"D\",\"19/12/2005\"),\n",
        "   (\"Lascano Guanca, Marcelo Fabricio\",\"D\",\"17/02/2006\"),\n",
        "   (\"Lezcano, Celia Morena\",\"D\",\"01/07/2005\"),\n",
        "   (\"Martinez, Tomas Andres\",\"D\",\"22/03/2007\"),\n",
        "   (\"PORTELLA VALDIVIA, PEDRO FRANCISCO\",\"D\",\"24/01/2007\"),\n",
        "   (\"Retamal Cisneros, Zacarias Josue\",\"D\",\"24/02/2007\"),\n",
        "   (\"Rosales, Francisco Gabriel\",\"D\",\"14/11/2006\"),\n",
        "   (\"Salem Barba, Mahia\",\"D\",\"14/10/2005\"),\n",
        "   (\"Soto Camara, Agustin Ignacio\",\"D\",\"07/11/2005\"),\n",
        "   (\"Villalba, Irina\",\"D\",\"09/09/2006\"),\n",
        "   (\"Voltolini, Emanuel Tobias\",\"D\",\"17/09/2006\"),\n",
        "   (\"Zalazar, Santino Stefano\",\"D\",\"30/09/2006\")\n",
        "]\n",
        "\n",
        "estudiantes_5c=[\n",
        "    (\"ABUD LASPIUR, LOURDES MARIEL\",\"C\",\"05/12/2006\"),\n",
        "    (\"Amador, Luana Micaela\",\"C\",\"09/12/2006\"),\n",
        "    (\"Anaquin, Leonardo Ezequiel\",\"C\",\"06/09/2005\"),\n",
        "    (\"Araoz Sanchez, Lautaro Nahuel\",\"C\",\"28/12/2005\"),\n",
        "    (\"Argañaraz, Agostina Abril\",\"C\",\"11/10/2006\"),\n",
        "    (\"Barrera, Matias Ezequiel\",\"C\",\"27/02/2007\"),\n",
        "    (\"Barrozo Vedia, Joaquin Nicolas\",\"C\",\"15/04/2006\"),\n",
        "    (\"Bettinelli, Valentino\",\"C\",\"12/07/2006\"),\n",
        "    (\"Bracamonte Martinez, Salvador\",\"C\",\"02/11/2005\"),\n",
        "    (\"Colque Rivero, Ariana Zoe Del Valle\",\"C\",\"27/12/2006\"),\n",
        "    (\"Diaz, Dulce Maitena\",\"C\",\"11/12/2006\"),\n",
        "    (\"FIGUEROA, SANTINO JOSUE\",\"C\",\"12/05/2007\"),\n",
        "    (\"Flores Cardozo, Agustina Tiara\",\"C\",\"18/03/2006\"),\n",
        "    (\"Gallo, Octavio Ismael\",\"C\",\"04/08/2006\"),\n",
        "    (\"Galvan, Lourdes Yamila\",\"C\",\"19/08/2005\"),\n",
        "    (\"Giangreco, Vitto Tomasso\",\"C\",\"21/03/2007\"),\n",
        "    (\"Grancara, Martina Luna\",\"C\",\"15/12/2006\"),\n",
        "    (\"Guanca, Sara Elizabeth\",\"C\",\"17/01/2007\"),\n",
        "    (\"Lopez, Victoria Constanza\",\"C\",\"12/11/2007\"),\n",
        "    (\"Mamani Garrido, Rosario Agostina\",\"C\",\"24/10/2006\"),\n",
        "    (\"Marinaro, Martin Ezequiel\",\"C\",\"03/11/2006\"),\n",
        "    (\"Merluzzi Dagum, Ignacio\",\"C\",\"22/12/2005\"),\n",
        "    (\"Messina, Martina\",\"C\",\"13/07/2005\"),\n",
        "    (\"RASUK, KARIM\", \"C\",\"13/07/2007\"),\n",
        "    (\"Rios, Lucia Magali\",\"C\",\"22/09/2006\"),\n",
        "    (\"Sanchez Flores, Matías Agustín\",\"C\",\"15/02/2007\"),\n",
        "    (\"Scarano, Renato Marcelo\",\"C\",\"06/12/2006\"),\n",
        "    (\"Sierra, Lucas Mauricio\",\"C\",\"03/04/2005\"),\n",
        "    (\"Tapia, Martin Gabriel\",\"C\",\"30/05/2006\"),\n",
        "    (\"Vilte, Mia Antonella Alondra\",\"C\",\"10/09/2005\"),\n",
        "    (\"Virgillito, Katya Milena\",\"C\",\"19/06/2007\")\n",
        "]"
      ]
    },
    {
      "cell_type": "markdown",
      "source": [
        "## Dada la lista estudiantes:\n",
        "> - Hacer una celda para resolver cada punto.\n",
        "- El TP resuelto será revisado en tu repositorio, no es necesario que lo envíes, pero sí que lo pushees correctamente.\n",
        "- En la nota inicial se contempla:\n",
        "  - La incorporación de este documento a tu propio respositorio.\n",
        "  - El pusheo de los cambios realizados.\n",
        "  - La resolución de los ejercicios propuestos.\n"
      ],
      "metadata": {
        "id": "rd6Ug6v3J4uN"
      }
    },
    {
      "cell_type": "markdown",
      "source": [
        "1. Reemplaza todos los valores del nombre por los que obtengas del método title(). De esta manera las listas quedaran con los datos más homogéneos."
      ],
      "metadata": {
        "id": "wRLng-uURyJ3"
      }
    },
    {
      "cell_type": "code",
      "source": [
        "estudiantes = []\n",
        "estudiantes.extend(estudiantes_5c)\n",
        "estudiantes.extend(estudiantes_5d)\n",
        "for i in range(len(estudiantes)):\n",
        "  nombre, division, fecha_nac = estudiantes[i]\n",
        "  nombre = nombre.title()\n",
        "  estudiantes[i] =  nombre, division, fecha_nac\n",
        "for estudiante in estudiantes:\n",
        "  print(estudiante)"
      ],
      "metadata": {
        "id": "5lFqJoTaSIWi",
        "colab": {
          "base_uri": "https://localhost:8080/"
        },
        "outputId": "8348e491-793a-4352-820a-e306cfa8dd87"
      },
      "execution_count": 17,
      "outputs": [
        {
          "output_type": "stream",
          "name": "stdout",
          "text": [
            "('Abud Laspiur, Lourdes Mariel', 'C', '05/12/2006')\n",
            "('Amador, Luana Micaela', 'C', '09/12/2006')\n",
            "('Anaquin, Leonardo Ezequiel', 'C', '06/09/2005')\n",
            "('Araoz Sanchez, Lautaro Nahuel', 'C', '28/12/2005')\n",
            "('Argañaraz, Agostina Abril', 'C', '11/10/2006')\n",
            "('Barrera, Matias Ezequiel', 'C', '27/02/2007')\n",
            "('Barrozo Vedia, Joaquin Nicolas', 'C', '15/04/2006')\n",
            "('Bettinelli, Valentino', 'C', '12/07/2006')\n",
            "('Bracamonte Martinez, Salvador', 'C', '02/11/2005')\n",
            "('Colque Rivero, Ariana Zoe Del Valle', 'C', '27/12/2006')\n",
            "('Diaz, Dulce Maitena', 'C', '11/12/2006')\n",
            "('Figueroa, Santino Josue', 'C', '12/05/2007')\n",
            "('Flores Cardozo, Agustina Tiara', 'C', '18/03/2006')\n",
            "('Gallo, Octavio Ismael', 'C', '04/08/2006')\n",
            "('Galvan, Lourdes Yamila', 'C', '19/08/2005')\n",
            "('Giangreco, Vitto Tomasso', 'C', '21/03/2007')\n",
            "('Grancara, Martina Luna', 'C', '15/12/2006')\n",
            "('Guanca, Sara Elizabeth', 'C', '17/01/2007')\n",
            "('Lopez, Victoria Constanza', 'C', '12/11/2007')\n",
            "('Mamani Garrido, Rosario Agostina', 'C', '24/10/2006')\n",
            "('Marinaro, Martin Ezequiel', 'C', '03/11/2006')\n",
            "('Merluzzi Dagum, Ignacio', 'C', '22/12/2005')\n",
            "('Messina, Martina', 'C', '13/07/2005')\n",
            "('Rasuk, Karim', 'C', '13/07/2007')\n",
            "('Rios, Lucia Magali', 'C', '22/09/2006')\n",
            "('Sanchez Flores, Matías Agustín', 'C', '15/02/2007')\n",
            "('Scarano, Renato Marcelo', 'C', '06/12/2006')\n",
            "('Sierra, Lucas Mauricio', 'C', '03/04/2005')\n",
            "('Tapia, Martin Gabriel', 'C', '30/05/2006')\n",
            "('Vilte, Mia Antonella Alondra', 'C', '10/09/2005')\n",
            "('Virgillito, Katya Milena', 'C', '19/06/2007')\n",
            "('Alurralde, Solange Stefania', 'D', '02/04/2007')\n",
            "('Alvarado, Ludmila Del Milagro', 'D', '06/09/2006')\n",
            "('Angel, Camila Juliana', 'D', '07/03/2007')\n",
            "('Arenas, Lucas Gabriel', 'D', '26/06/2007')\n",
            "('Caseres, Maria Antonia', 'D', '01/07/2006')\n",
            "('Castillo, Paulina Milagros', 'D', '01/06/2007')\n",
            "('Correa Segovia, Hugo Mariano', 'D', '04/12/2006')\n",
            "('D Elia, Alvaro Tadeo', 'D', '27/08/2006')\n",
            "('Flores, Victoria Agustina', 'D', '12/12/2006')\n",
            "('Geronimo Soriano, Lizzie Amaya', 'D', '20/01/2007')\n",
            "('Guzman, Angélica Morena', 'D', '11/04/2007')\n",
            "('Guzman, Jazmin Esmeralda Belen', 'D', '31/07/2006')\n",
            "('Jaime, Anita Maria Belen', 'D', '19/04/2007')\n",
            "('Lacour Polo, Nazarena', 'D', '19/12/2005')\n",
            "('Lascano Guanca, Marcelo Fabricio', 'D', '17/02/2006')\n",
            "('Lezcano, Celia Morena', 'D', '01/07/2005')\n",
            "('Martinez, Tomas Andres', 'D', '22/03/2007')\n",
            "('Portella Valdivia, Pedro Francisco', 'D', '24/01/2007')\n",
            "('Retamal Cisneros, Zacarias Josue', 'D', '24/02/2007')\n",
            "('Rosales, Francisco Gabriel', 'D', '14/11/2006')\n",
            "('Salem Barba, Mahia', 'D', '14/10/2005')\n",
            "('Soto Camara, Agustin Ignacio', 'D', '07/11/2005')\n",
            "('Villalba, Irina', 'D', '09/09/2006')\n",
            "('Voltolini, Emanuel Tobias', 'D', '17/09/2006')\n",
            "('Zalazar, Santino Stefano', 'D', '30/09/2006')\n"
          ]
        }
      ]
    },
    {
      "cell_type": "markdown",
      "source": [
        "2. Genera una lista de diccionarios con los datos de las listas, donde las claves de los mismos serán:\n",
        "- \"apellido\"\n",
        "- \"nombre\"\n",
        "- \"curso\"\n",
        "- \"division\"\n",
        "- \"feha_de_nacimiento\"\n",
        "\n",
        "Muestra la información generada."
      ],
      "metadata": {
        "id": "dYEGkYZyLy9I"
      }
    },
    {
      "cell_type": "code",
      "source": [
        "lista_diccionarios = []\n",
        "for estudiante in estudiantes:\n",
        "  un_estudiante = {}\n",
        "  nombre_y_apellido, division, fecha_nac = estudiante\n",
        "  apellido,nombre = nombre_y_apellido.split(\",\")\n",
        "  nombre = nombre.lstrip()\n",
        "  un_estudiante[\"apellido\"] = apellido\n",
        "  un_estudiante[\"nombre\"] = nombre\n",
        "  un_estudiante[\"curso\"] = 5\n",
        "  un_estudiante[\"division\"] = division\n",
        "  un_estudiante[\"feha_de_nacimiento\"] = fecha_nac\n",
        "  lista_diccionarios.append(un_estudiante)\n",
        "\n",
        "for estudiante in lista_diccionarios:\n",
        "  print(estudiante)"
      ],
      "metadata": {
        "colab": {
          "base_uri": "https://localhost:8080/"
        },
        "id": "Z4alIEhMb8G6",
        "outputId": "54d751d9-ba4b-4e13-e1f3-b533cc0e024c"
      },
      "execution_count": 18,
      "outputs": [
        {
          "output_type": "stream",
          "name": "stdout",
          "text": [
            "{'apellido': 'Abud Laspiur', 'nombre': 'Lourdes Mariel', 'curso': 5, 'division': 'C', 'feha_de_nacimiento': '05/12/2006'}\n",
            "{'apellido': 'Amador', 'nombre': 'Luana Micaela', 'curso': 5, 'division': 'C', 'feha_de_nacimiento': '09/12/2006'}\n",
            "{'apellido': 'Anaquin', 'nombre': 'Leonardo Ezequiel', 'curso': 5, 'division': 'C', 'feha_de_nacimiento': '06/09/2005'}\n",
            "{'apellido': 'Araoz Sanchez', 'nombre': 'Lautaro Nahuel', 'curso': 5, 'division': 'C', 'feha_de_nacimiento': '28/12/2005'}\n",
            "{'apellido': 'Argañaraz', 'nombre': 'Agostina Abril', 'curso': 5, 'division': 'C', 'feha_de_nacimiento': '11/10/2006'}\n",
            "{'apellido': 'Barrera', 'nombre': 'Matias Ezequiel', 'curso': 5, 'division': 'C', 'feha_de_nacimiento': '27/02/2007'}\n",
            "{'apellido': 'Barrozo Vedia', 'nombre': 'Joaquin Nicolas', 'curso': 5, 'division': 'C', 'feha_de_nacimiento': '15/04/2006'}\n",
            "{'apellido': 'Bettinelli', 'nombre': 'Valentino', 'curso': 5, 'division': 'C', 'feha_de_nacimiento': '12/07/2006'}\n",
            "{'apellido': 'Bracamonte Martinez', 'nombre': 'Salvador', 'curso': 5, 'division': 'C', 'feha_de_nacimiento': '02/11/2005'}\n",
            "{'apellido': 'Colque Rivero', 'nombre': 'Ariana Zoe Del Valle', 'curso': 5, 'division': 'C', 'feha_de_nacimiento': '27/12/2006'}\n",
            "{'apellido': 'Diaz', 'nombre': 'Dulce Maitena', 'curso': 5, 'division': 'C', 'feha_de_nacimiento': '11/12/2006'}\n",
            "{'apellido': 'Figueroa', 'nombre': 'Santino Josue', 'curso': 5, 'division': 'C', 'feha_de_nacimiento': '12/05/2007'}\n",
            "{'apellido': 'Flores Cardozo', 'nombre': 'Agustina Tiara', 'curso': 5, 'division': 'C', 'feha_de_nacimiento': '18/03/2006'}\n",
            "{'apellido': 'Gallo', 'nombre': 'Octavio Ismael', 'curso': 5, 'division': 'C', 'feha_de_nacimiento': '04/08/2006'}\n",
            "{'apellido': 'Galvan', 'nombre': 'Lourdes Yamila', 'curso': 5, 'division': 'C', 'feha_de_nacimiento': '19/08/2005'}\n",
            "{'apellido': 'Giangreco', 'nombre': 'Vitto Tomasso', 'curso': 5, 'division': 'C', 'feha_de_nacimiento': '21/03/2007'}\n",
            "{'apellido': 'Grancara', 'nombre': 'Martina Luna', 'curso': 5, 'division': 'C', 'feha_de_nacimiento': '15/12/2006'}\n",
            "{'apellido': 'Guanca', 'nombre': 'Sara Elizabeth', 'curso': 5, 'division': 'C', 'feha_de_nacimiento': '17/01/2007'}\n",
            "{'apellido': 'Lopez', 'nombre': 'Victoria Constanza', 'curso': 5, 'division': 'C', 'feha_de_nacimiento': '12/11/2007'}\n",
            "{'apellido': 'Mamani Garrido', 'nombre': 'Rosario Agostina', 'curso': 5, 'division': 'C', 'feha_de_nacimiento': '24/10/2006'}\n",
            "{'apellido': 'Marinaro', 'nombre': 'Martin Ezequiel', 'curso': 5, 'division': 'C', 'feha_de_nacimiento': '03/11/2006'}\n",
            "{'apellido': 'Merluzzi Dagum', 'nombre': 'Ignacio', 'curso': 5, 'division': 'C', 'feha_de_nacimiento': '22/12/2005'}\n",
            "{'apellido': 'Messina', 'nombre': 'Martina', 'curso': 5, 'division': 'C', 'feha_de_nacimiento': '13/07/2005'}\n",
            "{'apellido': 'Rasuk', 'nombre': 'Karim', 'curso': 5, 'division': 'C', 'feha_de_nacimiento': '13/07/2007'}\n",
            "{'apellido': 'Rios', 'nombre': 'Lucia Magali', 'curso': 5, 'division': 'C', 'feha_de_nacimiento': '22/09/2006'}\n",
            "{'apellido': 'Sanchez Flores', 'nombre': 'Matías Agustín', 'curso': 5, 'division': 'C', 'feha_de_nacimiento': '15/02/2007'}\n",
            "{'apellido': 'Scarano', 'nombre': 'Renato Marcelo', 'curso': 5, 'division': 'C', 'feha_de_nacimiento': '06/12/2006'}\n",
            "{'apellido': 'Sierra', 'nombre': 'Lucas Mauricio', 'curso': 5, 'division': 'C', 'feha_de_nacimiento': '03/04/2005'}\n",
            "{'apellido': 'Tapia', 'nombre': 'Martin Gabriel', 'curso': 5, 'division': 'C', 'feha_de_nacimiento': '30/05/2006'}\n",
            "{'apellido': 'Vilte', 'nombre': 'Mia Antonella Alondra', 'curso': 5, 'division': 'C', 'feha_de_nacimiento': '10/09/2005'}\n",
            "{'apellido': 'Virgillito', 'nombre': 'Katya Milena', 'curso': 5, 'division': 'C', 'feha_de_nacimiento': '19/06/2007'}\n",
            "{'apellido': 'Alurralde', 'nombre': 'Solange Stefania', 'curso': 5, 'division': 'D', 'feha_de_nacimiento': '02/04/2007'}\n",
            "{'apellido': 'Alvarado', 'nombre': 'Ludmila Del Milagro', 'curso': 5, 'division': 'D', 'feha_de_nacimiento': '06/09/2006'}\n",
            "{'apellido': 'Angel', 'nombre': 'Camila Juliana', 'curso': 5, 'division': 'D', 'feha_de_nacimiento': '07/03/2007'}\n",
            "{'apellido': 'Arenas', 'nombre': 'Lucas Gabriel', 'curso': 5, 'division': 'D', 'feha_de_nacimiento': '26/06/2007'}\n",
            "{'apellido': 'Caseres', 'nombre': 'Maria Antonia', 'curso': 5, 'division': 'D', 'feha_de_nacimiento': '01/07/2006'}\n",
            "{'apellido': 'Castillo', 'nombre': 'Paulina Milagros', 'curso': 5, 'division': 'D', 'feha_de_nacimiento': '01/06/2007'}\n",
            "{'apellido': 'Correa Segovia', 'nombre': 'Hugo Mariano', 'curso': 5, 'division': 'D', 'feha_de_nacimiento': '04/12/2006'}\n",
            "{'apellido': 'D Elia', 'nombre': 'Alvaro Tadeo', 'curso': 5, 'division': 'D', 'feha_de_nacimiento': '27/08/2006'}\n",
            "{'apellido': 'Flores', 'nombre': 'Victoria Agustina', 'curso': 5, 'division': 'D', 'feha_de_nacimiento': '12/12/2006'}\n",
            "{'apellido': 'Geronimo Soriano', 'nombre': 'Lizzie Amaya', 'curso': 5, 'division': 'D', 'feha_de_nacimiento': '20/01/2007'}\n",
            "{'apellido': 'Guzman', 'nombre': 'Angélica Morena', 'curso': 5, 'division': 'D', 'feha_de_nacimiento': '11/04/2007'}\n",
            "{'apellido': 'Guzman', 'nombre': 'Jazmin Esmeralda Belen', 'curso': 5, 'division': 'D', 'feha_de_nacimiento': '31/07/2006'}\n",
            "{'apellido': 'Jaime', 'nombre': 'Anita Maria Belen', 'curso': 5, 'division': 'D', 'feha_de_nacimiento': '19/04/2007'}\n",
            "{'apellido': 'Lacour Polo', 'nombre': 'Nazarena', 'curso': 5, 'division': 'D', 'feha_de_nacimiento': '19/12/2005'}\n",
            "{'apellido': 'Lascano Guanca', 'nombre': 'Marcelo Fabricio', 'curso': 5, 'division': 'D', 'feha_de_nacimiento': '17/02/2006'}\n",
            "{'apellido': 'Lezcano', 'nombre': 'Celia Morena', 'curso': 5, 'division': 'D', 'feha_de_nacimiento': '01/07/2005'}\n",
            "{'apellido': 'Martinez', 'nombre': 'Tomas Andres', 'curso': 5, 'division': 'D', 'feha_de_nacimiento': '22/03/2007'}\n",
            "{'apellido': 'Portella Valdivia', 'nombre': 'Pedro Francisco', 'curso': 5, 'division': 'D', 'feha_de_nacimiento': '24/01/2007'}\n",
            "{'apellido': 'Retamal Cisneros', 'nombre': 'Zacarias Josue', 'curso': 5, 'division': 'D', 'feha_de_nacimiento': '24/02/2007'}\n",
            "{'apellido': 'Rosales', 'nombre': 'Francisco Gabriel', 'curso': 5, 'division': 'D', 'feha_de_nacimiento': '14/11/2006'}\n",
            "{'apellido': 'Salem Barba', 'nombre': 'Mahia', 'curso': 5, 'division': 'D', 'feha_de_nacimiento': '14/10/2005'}\n",
            "{'apellido': 'Soto Camara', 'nombre': 'Agustin Ignacio', 'curso': 5, 'division': 'D', 'feha_de_nacimiento': '07/11/2005'}\n",
            "{'apellido': 'Villalba', 'nombre': 'Irina', 'curso': 5, 'division': 'D', 'feha_de_nacimiento': '09/09/2006'}\n",
            "{'apellido': 'Voltolini', 'nombre': 'Emanuel Tobias', 'curso': 5, 'division': 'D', 'feha_de_nacimiento': '17/09/2006'}\n",
            "{'apellido': 'Zalazar', 'nombre': 'Santino Stefano', 'curso': 5, 'division': 'D', 'feha_de_nacimiento': '30/09/2006'}\n"
          ]
        }
      ]
    },
    {
      "cell_type": "markdown",
      "source": [
        "3. Genera un diccionario en python, en donde la clave sea cada nombre que aparece en las listas y el valor será la cantidad de veces que se encuentra el mismo.\n",
        "Para este punto es posible fusionar ambas listas en una sola, recordá que hay un método que realiza esta acción.\n",
        "\n",
        "Mostrá la informacion generada"
      ],
      "metadata": {
        "id": "UW2dlBsGMAte"
      }
    },
    {
      "cell_type": "code",
      "source": [
        "nombres = {}\n",
        "for estudiante in estudiantes:\n",
        "  nombre, division, fecha_nac = estudiante\n",
        "  lista_nombres = nombre.replace(\",\",\"\").split()\n",
        "  for un_nombre in lista_nombres:\n",
        "    if un_nombre in nombres.keys():\n",
        "      nombres[un_nombre] += 1\n",
        "    else:\n",
        "      nombres[un_nombre] = 1\n",
        "for  nombre,veces in nombres.items():\n",
        "  print(f\"El nombre {nombre} apareció {veces} veces\")"
      ],
      "metadata": {
        "id": "EawAy4SANtkl",
        "colab": {
          "base_uri": "https://localhost:8080/"
        },
        "outputId": "1fead15f-45fd-49e1-f5ee-8485021c3e5a"
      },
      "execution_count": 19,
      "outputs": [
        {
          "output_type": "stream",
          "name": "stdout",
          "text": [
            "El nombre Abud apareció 1 veces\n",
            "El nombre Laspiur apareció 1 veces\n",
            "El nombre Lourdes apareció 2 veces\n",
            "El nombre Mariel apareció 1 veces\n",
            "El nombre Amador apareció 1 veces\n",
            "El nombre Luana apareció 1 veces\n",
            "El nombre Micaela apareció 1 veces\n",
            "El nombre Anaquin apareció 1 veces\n",
            "El nombre Leonardo apareció 1 veces\n",
            "El nombre Ezequiel apareció 3 veces\n",
            "El nombre Araoz apareció 1 veces\n",
            "El nombre Sanchez apareció 2 veces\n",
            "El nombre Lautaro apareció 1 veces\n",
            "El nombre Nahuel apareció 1 veces\n",
            "El nombre Argañaraz apareció 1 veces\n",
            "El nombre Agostina apareció 2 veces\n",
            "El nombre Abril apareció 1 veces\n",
            "El nombre Barrera apareció 1 veces\n",
            "El nombre Matias apareció 1 veces\n",
            "El nombre Barrozo apareció 1 veces\n",
            "El nombre Vedia apareció 1 veces\n",
            "El nombre Joaquin apareció 1 veces\n",
            "El nombre Nicolas apareció 1 veces\n",
            "El nombre Bettinelli apareció 1 veces\n",
            "El nombre Valentino apareció 1 veces\n",
            "El nombre Bracamonte apareció 1 veces\n",
            "El nombre Martinez apareció 2 veces\n",
            "El nombre Salvador apareció 1 veces\n",
            "El nombre Colque apareció 1 veces\n",
            "El nombre Rivero apareció 1 veces\n",
            "El nombre Ariana apareció 1 veces\n",
            "El nombre Zoe apareció 1 veces\n",
            "El nombre Del apareció 2 veces\n",
            "El nombre Valle apareció 1 veces\n",
            "El nombre Diaz apareció 1 veces\n",
            "El nombre Dulce apareció 1 veces\n",
            "El nombre Maitena apareció 1 veces\n",
            "El nombre Figueroa apareció 1 veces\n",
            "El nombre Santino apareció 2 veces\n",
            "El nombre Josue apareció 2 veces\n",
            "El nombre Flores apareció 3 veces\n",
            "El nombre Cardozo apareció 1 veces\n",
            "El nombre Agustina apareció 2 veces\n",
            "El nombre Tiara apareció 1 veces\n",
            "El nombre Gallo apareció 1 veces\n",
            "El nombre Octavio apareció 1 veces\n",
            "El nombre Ismael apareció 1 veces\n",
            "El nombre Galvan apareció 1 veces\n",
            "El nombre Yamila apareció 1 veces\n",
            "El nombre Giangreco apareció 1 veces\n",
            "El nombre Vitto apareció 1 veces\n",
            "El nombre Tomasso apareció 1 veces\n",
            "El nombre Grancara apareció 1 veces\n",
            "El nombre Martina apareció 2 veces\n",
            "El nombre Luna apareció 1 veces\n",
            "El nombre Guanca apareció 2 veces\n",
            "El nombre Sara apareció 1 veces\n",
            "El nombre Elizabeth apareció 1 veces\n",
            "El nombre Lopez apareció 1 veces\n",
            "El nombre Victoria apareció 2 veces\n",
            "El nombre Constanza apareció 1 veces\n",
            "El nombre Mamani apareció 1 veces\n",
            "El nombre Garrido apareció 1 veces\n",
            "El nombre Rosario apareció 1 veces\n",
            "El nombre Marinaro apareció 1 veces\n",
            "El nombre Martin apareció 2 veces\n",
            "El nombre Merluzzi apareció 1 veces\n",
            "El nombre Dagum apareció 1 veces\n",
            "El nombre Ignacio apareció 2 veces\n",
            "El nombre Messina apareció 1 veces\n",
            "El nombre Rasuk apareció 1 veces\n",
            "El nombre Karim apareció 1 veces\n",
            "El nombre Rios apareció 1 veces\n",
            "El nombre Lucia apareció 1 veces\n",
            "El nombre Magali apareció 1 veces\n",
            "El nombre Matías apareció 1 veces\n",
            "El nombre Agustín apareció 1 veces\n",
            "El nombre Scarano apareció 1 veces\n",
            "El nombre Renato apareció 1 veces\n",
            "El nombre Marcelo apareció 2 veces\n",
            "El nombre Sierra apareció 1 veces\n",
            "El nombre Lucas apareció 2 veces\n",
            "El nombre Mauricio apareció 1 veces\n",
            "El nombre Tapia apareció 1 veces\n",
            "El nombre Gabriel apareció 3 veces\n",
            "El nombre Vilte apareció 1 veces\n",
            "El nombre Mia apareció 1 veces\n",
            "El nombre Antonella apareció 1 veces\n",
            "El nombre Alondra apareció 1 veces\n",
            "El nombre Virgillito apareció 1 veces\n",
            "El nombre Katya apareció 1 veces\n",
            "El nombre Milena apareció 1 veces\n",
            "El nombre Alurralde apareció 1 veces\n",
            "El nombre Solange apareció 1 veces\n",
            "El nombre Stefania apareció 1 veces\n",
            "El nombre Alvarado apareció 1 veces\n",
            "El nombre Ludmila apareció 1 veces\n",
            "El nombre Milagro apareció 1 veces\n",
            "El nombre Angel apareció 1 veces\n",
            "El nombre Camila apareció 1 veces\n",
            "El nombre Juliana apareció 1 veces\n",
            "El nombre Arenas apareció 1 veces\n",
            "El nombre Caseres apareció 1 veces\n",
            "El nombre Maria apareció 2 veces\n",
            "El nombre Antonia apareció 1 veces\n",
            "El nombre Castillo apareció 1 veces\n",
            "El nombre Paulina apareció 1 veces\n",
            "El nombre Milagros apareció 1 veces\n",
            "El nombre Correa apareció 1 veces\n",
            "El nombre Segovia apareció 1 veces\n",
            "El nombre Hugo apareció 1 veces\n",
            "El nombre Mariano apareció 1 veces\n",
            "El nombre D apareció 1 veces\n",
            "El nombre Elia apareció 1 veces\n",
            "El nombre Alvaro apareció 1 veces\n",
            "El nombre Tadeo apareció 1 veces\n",
            "El nombre Geronimo apareció 1 veces\n",
            "El nombre Soriano apareció 1 veces\n",
            "El nombre Lizzie apareció 1 veces\n",
            "El nombre Amaya apareció 1 veces\n",
            "El nombre Guzman apareció 2 veces\n",
            "El nombre Angélica apareció 1 veces\n",
            "El nombre Morena apareció 2 veces\n",
            "El nombre Jazmin apareció 1 veces\n",
            "El nombre Esmeralda apareció 1 veces\n",
            "El nombre Belen apareció 2 veces\n",
            "El nombre Jaime apareció 1 veces\n",
            "El nombre Anita apareció 1 veces\n",
            "El nombre Lacour apareció 1 veces\n",
            "El nombre Polo apareció 1 veces\n",
            "El nombre Nazarena apareció 1 veces\n",
            "El nombre Lascano apareció 1 veces\n",
            "El nombre Fabricio apareció 1 veces\n",
            "El nombre Lezcano apareció 1 veces\n",
            "El nombre Celia apareció 1 veces\n",
            "El nombre Tomas apareció 1 veces\n",
            "El nombre Andres apareció 1 veces\n",
            "El nombre Portella apareció 1 veces\n",
            "El nombre Valdivia apareció 1 veces\n",
            "El nombre Pedro apareció 1 veces\n",
            "El nombre Francisco apareció 2 veces\n",
            "El nombre Retamal apareció 1 veces\n",
            "El nombre Cisneros apareció 1 veces\n",
            "El nombre Zacarias apareció 1 veces\n",
            "El nombre Rosales apareció 1 veces\n",
            "El nombre Salem apareció 1 veces\n",
            "El nombre Barba apareció 1 veces\n",
            "El nombre Mahia apareció 1 veces\n",
            "El nombre Soto apareció 1 veces\n",
            "El nombre Camara apareció 1 veces\n",
            "El nombre Agustin apareció 1 veces\n",
            "El nombre Villalba apareció 1 veces\n",
            "El nombre Irina apareció 1 veces\n",
            "El nombre Voltolini apareció 1 veces\n",
            "El nombre Emanuel apareció 1 veces\n",
            "El nombre Tobias apareció 1 veces\n",
            "El nombre Zalazar apareció 1 veces\n",
            "El nombre Stefano apareció 1 veces\n"
          ]
        }
      ]
    },
    {
      "cell_type": "markdown",
      "source": [
        "4. Genera un diccionario en python, en donde la clave sea cada apellido que aparece en las listas y el valor será la cantidad de veces que se encuentra el mismo.\n",
        "Para este punto es posible fusionar ambas listas en una sola, recordá que hay un método que realiza esta acción."
      ],
      "metadata": {
        "id": "kZeEHUYVNwGV"
      }
    },
    {
      "cell_type": "code",
      "source": [
        "dic_estudiantes = {}\n",
        "for i in estudiantes_5d:\n",
        "  if i[2] in dic_estudiantes:\n",
        "    dic_estudiantes[i[2]] += 1\n",
        "  else:\n",
        "    dic_estudiantes[i[2]] = 1\n",
        "\n",
        "for i in estudiantes_5c:\n",
        "  if i[2] in dic_estudiantes:\n",
        "    dic_estudiantes[i[2]] += 1\n",
        "  else:\n",
        "    dic_estudiantes[i[2]] = 1\n",
        "\n",
        "for i in dic_estudiantes:\n",
        "  print(i, dic_estudiantes[i])"
      ],
      "metadata": {
        "id": "q05GnxXgORzt",
        "colab": {
          "base_uri": "https://localhost:8080/"
        },
        "outputId": "71429859-9246-4d88-985b-6aae2deb090b"
      },
      "execution_count": 26,
      "outputs": [
        {
          "output_type": "stream",
          "name": "stdout",
          "text": [
            "02/04/2007 1\n",
            "06/09/2006 1\n",
            "07/03/2007 1\n",
            "26/06/2007 1\n",
            "01/07/2006 1\n",
            "01/06/2007 1\n",
            "04/12/2006 1\n",
            "27/08/2006 1\n",
            "12/12/2006 1\n",
            "20/01/2007 1\n",
            "11/04/2007 1\n",
            "31/07/2006 1\n",
            "19/04/2007 1\n",
            "19/12/2005 1\n",
            "17/02/2006 1\n",
            "01/07/2005 1\n",
            "22/03/2007 1\n",
            "24/01/2007 1\n",
            "24/02/2007 1\n",
            "14/11/2006 1\n",
            "14/10/2005 1\n",
            "07/11/2005 1\n",
            "09/09/2006 1\n",
            "17/09/2006 1\n",
            "30/09/2006 1\n",
            "05/12/2006 1\n",
            "09/12/2006 1\n",
            "06/09/2005 1\n",
            "28/12/2005 1\n",
            "11/10/2006 1\n",
            "27/02/2007 1\n",
            "15/04/2006 1\n",
            "12/07/2006 1\n",
            "02/11/2005 1\n",
            "27/12/2006 1\n",
            "11/12/2006 1\n",
            "12/05/2007 1\n",
            "18/03/2006 1\n",
            "04/08/2006 1\n",
            "19/08/2005 1\n",
            "21/03/2007 1\n",
            "15/12/2006 1\n",
            "17/01/2007 1\n",
            "12/11/2007 1\n",
            "24/10/2006 1\n",
            "03/11/2006 1\n",
            "22/12/2005 1\n",
            "13/07/2005 1\n",
            "13/07/2007 1\n",
            "22/09/2006 1\n",
            "15/02/2007 1\n",
            "06/12/2006 1\n",
            "03/04/2005 1\n",
            "30/05/2006 1\n",
            "10/09/2005 1\n",
            "19/06/2007 1\n"
          ]
        }
      ]
    },
    {
      "cell_type": "markdown",
      "source": [
        "5. Solicita al usuario que ingrese un apellido y muestra  a todos los estudiantes con ese apellido."
      ],
      "metadata": {
        "id": "ywYmA2JQNp3T"
      }
    },
    {
      "cell_type": "code",
      "source": [
        "apellido = input(\"Ingrese un apellido: \").title()\n",
        "for i in estudiantes_5d:\n",
        "  if apellido in i[0]:\n",
        "    print(i)\n",
        "\n",
        "for i in estudiantes_5c:\n",
        "  if apellido in i[0]:\n",
        "    print(i)"
      ],
      "metadata": {
        "id": "Cnp334ZrOCjK",
        "colab": {
          "base_uri": "https://localhost:8080/"
        },
        "outputId": "6d42d01f-582b-49a1-daa5-a84aae59fdc7"
      },
      "execution_count": 54,
      "outputs": [
        {
          "output_type": "stream",
          "name": "stdout",
          "text": [
            "Ingrese un apellido: caseres\n",
            "('Caseres, Maria Antonia', 'D', '01/07/2006')\n"
          ]
        }
      ]
    },
    {
      "cell_type": "markdown",
      "source": [
        "6. Solicita al usuario que ingrese un nombre y muestra a todos los estudiantes con el nombre ingresado."
      ],
      "metadata": {
        "id": "iAXts6saODoU"
      }
    },
    {
      "cell_type": "code",
      "source": [
        "nombre = input(\"Ingrese un nombre: \").title()\n",
        "for i in estudiantes_5d:\n",
        "  if nombre in i[1]:\n",
        "    print(i)\n",
        "\n",
        "for i in estudiantes_5c:\n",
        "  if nombre in i[1]:\n",
        "    print(i)"
      ],
      "metadata": {
        "id": "2Oa9CmaoJVH5",
        "outputId": "d20ee24c-dd2c-45ca-fcbb-59dbaee97147",
        "colab": {
          "base_uri": "https://localhost:8080/"
        }
      },
      "execution_count": 55,
      "outputs": [
        {
          "name": "stdout",
          "output_type": "stream",
          "text": [
            "Ingrese un nombre: maria\n"
          ]
        }
      ]
    },
    {
      "cell_type": "markdown",
      "source": [
        "7. Busca el diccionario con tu información dentro de la lista y cámbiate de división, de tal manera que si estas en 5C, con el cambio quedes en 5D y viceversa."
      ],
      "metadata": {
        "id": "T4PFiwwdOK27"
      }
    },
    {
      "cell_type": "code",
      "source": [
        "nombre = input(\"Ingrese su nombre: \").title()\n",
        "for i in estudiantes_5d:\n",
        "  if nombre in i[2]:\n",
        "    i.update({'division': 'C'})\n",
        "    i.update({'curso': '5C'})\n",
        "    print(i)\n",
        "\n",
        "for i in estudiantes_5c:\n",
        "  if nombre in i[2]:\n",
        "    i.update({'division': 'D'})\n",
        "    i.update({'curso': '5D'})\n",
        "    print(i)"
      ],
      "metadata": {
        "id": "ywMmswfNLyrj",
        "outputId": "d1608057-d877-4834-84c5-331a412be271",
        "colab": {
          "base_uri": "https://localhost:8080/"
        }
      },
      "execution_count": 63,
      "outputs": [
        {
          "name": "stdout",
          "output_type": "stream",
          "text": [
            "Ingrese su nombre: maria\n"
          ]
        }
      ]
    },
    {
      "cell_type": "markdown",
      "source": [
        "8. Ordenar la lista alfabeticamente por nombre. Ascendente y descendentemente. Para elegir como ordenarla, mostrar un menú donde el usuario podrá decidir como quiere ver la salida."
      ],
      "metadata": {
        "id": "xfy8SFlZRVGf"
      }
    },
    {
      "cell_type": "code",
      "source": [
        "print(\"\"\"\n",
        "1. Ordenar alfabeticamente por nombre de manera ascendente\n",
        "2. Ordenar alfabeticamente por nombre de manera descendente\n",
        "\"\"\")\n",
        "opcion = int(input(\"Ingrese una opcion: \"))\n",
        "if opcion == 1:\n",
        "  estudiantes_5d.sort(key=lambda x: x[2])\n",
        "else:\n",
        "  estudiantes_5d.sort(key=lambda x: x[2], reverse=True)\n",
        "\n",
        "if opcion == 1:\n",
        "  estudiantes_5c.sort(key=lambda x: x[2])\n",
        "else:\n",
        "  estudiantes_5c.sort(key=lambda x: x[2], reverse=True)\n",
        "\n",
        "\n",
        "print(\"\"\"\n",
        "1. Salida en lista\n",
        "2. Salida en diccionario\n",
        "\"\"\")\n",
        "opcion_b = int(input(\"Ingrese una opcion: \"))\n",
        "if opcion_b == 1:\n",
        "  print(\"Estudiantes 5D:\", [estudiante[2] for estudiante in estudiantes_5d])\n",
        "  print(\"Estudiantes 5C:\", [estudiante[2] for estudiante in estudiantes_5c])\n",
        "else:\n",
        "  for estudiante in estudiantes_5d:\n",
        "    print(estudiante)\n",
        "  for estudiante in estudiantes_5c:\n",
        "    print(estudiante)"
      ],
      "metadata": {
        "id": "E4Onk1FNRUa2",
        "outputId": "436d5fab-de4e-4fbe-de08-86ebaceae70a",
        "colab": {
          "base_uri": "https://localhost:8080/"
        }
      },
      "execution_count": 64,
      "outputs": [
        {
          "output_type": "stream",
          "name": "stdout",
          "text": [
            "\n",
            "1. Ordenar alfabeticamente por nombre de manera ascendente\n",
            "2. Ordenar alfabeticamente por nombre de manera descendente\n",
            "\n",
            "Ingrese una opcion: 1\n",
            "\n",
            "1. Salida en lista\n",
            "2. Salida en diccionario\n",
            "\n",
            "Ingrese una opcion: 2\n",
            "('Castillo, Paulina Milagros', 'D', '01/06/2007')\n",
            "('Lezcano, Celia Morena', 'D', '01/07/2005')\n",
            "('Caseres, Maria Antonia', 'D', '01/07/2006')\n",
            "('Alurralde, Solange Stefania', 'D', '02/04/2007')\n",
            "('Correa Segovia, Hugo Mariano', 'D', '04/12/2006')\n",
            "('Alvarado, Ludmila Del Milagro', 'D', '06/09/2006')\n",
            "('Angel, Camila Juliana', 'D', '07/03/2007')\n",
            "('Soto Camara, Agustin Ignacio', 'D', '07/11/2005')\n",
            "('Villalba, Irina', 'D', '09/09/2006')\n",
            "('GUZMAN, ANGÉLICA MORENA', 'D', '11/04/2007')\n",
            "('Flores, Victoria Agustina', 'D', '12/12/2006')\n",
            "('Salem Barba, Mahia', 'D', '14/10/2005')\n",
            "('Rosales, Francisco Gabriel', 'D', '14/11/2006')\n",
            "('Lascano Guanca, Marcelo Fabricio', 'D', '17/02/2006')\n",
            "('Voltolini, Emanuel Tobias', 'D', '17/09/2006')\n",
            "('Jaime, Anita Maria Belen', 'D', '19/04/2007')\n",
            "('Lacour Polo, Nazarena', 'D', '19/12/2005')\n",
            "('Geronimo Soriano, Lizzie Amaya', 'D', '20/01/2007')\n",
            "('Martinez, Tomas Andres', 'D', '22/03/2007')\n",
            "('PORTELLA VALDIVIA, PEDRO FRANCISCO', 'D', '24/01/2007')\n",
            "('Retamal Cisneros, Zacarias Josue', 'D', '24/02/2007')\n",
            "('Arenas, Lucas Gabriel', 'D', '26/06/2007')\n",
            "('D Elia, Alvaro Tadeo', 'D', '27/08/2006')\n",
            "('Zalazar, Santino Stefano', 'D', '30/09/2006')\n",
            "('Guzman, Jazmin Esmeralda Belen', 'D', '31/07/2006')\n",
            "('Bracamonte Martinez, Salvador', 'C', '02/11/2005')\n",
            "('Sierra, Lucas Mauricio', 'C', '03/04/2005')\n",
            "('Marinaro, Martin Ezequiel', 'C', '03/11/2006')\n",
            "('Gallo, Octavio Ismael', 'C', '04/08/2006')\n",
            "('ABUD LASPIUR, LOURDES MARIEL', 'C', '05/12/2006')\n",
            "('Anaquin, Leonardo Ezequiel', 'C', '06/09/2005')\n",
            "('Scarano, Renato Marcelo', 'C', '06/12/2006')\n",
            "('Amador, Luana Micaela', 'C', '09/12/2006')\n",
            "('Vilte, Mia Antonella Alondra', 'C', '10/09/2005')\n",
            "('Argañaraz, Agostina Abril', 'C', '11/10/2006')\n",
            "('Diaz, Dulce Maitena', 'C', '11/12/2006')\n",
            "('FIGUEROA, SANTINO JOSUE', 'C', '12/05/2007')\n",
            "('Bettinelli, Valentino', 'C', '12/07/2006')\n",
            "('Lopez, Victoria Constanza', 'C', '12/11/2007')\n",
            "('Messina, Martina', 'C', '13/07/2005')\n",
            "('RASUK, KARIM', 'C', '13/07/2007')\n",
            "('Sanchez Flores, Matías Agustín', 'C', '15/02/2007')\n",
            "('Barrozo Vedia, Joaquin Nicolas', 'C', '15/04/2006')\n",
            "('Grancara, Martina Luna', 'C', '15/12/2006')\n",
            "('Guanca, Sara Elizabeth', 'C', '17/01/2007')\n",
            "('Flores Cardozo, Agustina Tiara', 'C', '18/03/2006')\n",
            "('Virgillito, Katya Milena', 'C', '19/06/2007')\n",
            "('Galvan, Lourdes Yamila', 'C', '19/08/2005')\n",
            "('Giangreco, Vitto Tomasso', 'C', '21/03/2007')\n",
            "('Rios, Lucia Magali', 'C', '22/09/2006')\n",
            "('Merluzzi Dagum, Ignacio', 'C', '22/12/2005')\n",
            "('Mamani Garrido, Rosario Agostina', 'C', '24/10/2006')\n",
            "('Barrera, Matias Ezequiel', 'C', '27/02/2007')\n",
            "('Colque Rivero, Ariana Zoe Del Valle', 'C', '27/12/2006')\n",
            "('Araoz Sanchez, Lautaro Nahuel', 'C', '28/12/2005')\n",
            "('Tapia, Martin Gabriel', 'C', '30/05/2006')\n"
          ]
        }
      ]
    },
    {
      "cell_type": "markdown",
      "source": [
        "9. Ordenar la lista alfabeticamente por apellido. Ascendente y descendentemente. Para elegir como ordenarla, mostrar un menú donde el usuario podrá decidir como quiere ver la salida."
      ],
      "metadata": {
        "id": "lW18NgPjRcGP"
      }
    },
    {
      "cell_type": "code",
      "source": [
        "print(\"\"\"\n",
        "1. Ordenar alfabeticamente por apellido de manera ascendente\n",
        "2. Ordenar alfabeticamente por apellido de manera descendente\n",
        "\"\"\")\n",
        "opcion = int(input(\"Ingrese una opcion: \"))\n",
        "if opcion == 1:\n",
        "  estudiantes_5d.sort(key=lambda x: x[0])\n",
        "else:\n",
        "  estudiantes_5d.sort(key=lambda x: x[0], reverse=True)\n",
        "\n",
        "if opcion == 1:\n",
        "  estudiantes_5c.sort(key=lambda x: x[0])\n",
        "else:\n",
        "  estudiantes_5c.sort(key=lambda x: x[0], reverse=True)\n",
        "\n",
        "print(\"\"\"\n",
        "1. Salida en lista\n",
        "2. Salida en diccionario\n",
        "\"\"\")\n",
        "opcion_b = int(input(\"Ingrese una opcion: \"))\n",
        "if opcion_b == 1:\n",
        "  print(\"Estudiantes 5D:\", [estudiante[0] for estudiante in estudiantes_5d])\n",
        "  print(\"Estudiantes 5C:\", [estudiante[0] for estudiante in estudiantes_5c])\n",
        "else:\n",
        "  for estudiante in estudiantes_5d:\n",
        "    print(estudiante)\n",
        "  for estudiante in estudiantes_5c:\n",
        "    print(estudiante)"
      ],
      "metadata": {
        "id": "jTtWBnalRcoC",
        "outputId": "02cd3601-ba29-4275-880a-e89d05a2920d",
        "colab": {
          "base_uri": "https://localhost:8080/"
        }
      },
      "execution_count": 65,
      "outputs": [
        {
          "output_type": "stream",
          "name": "stdout",
          "text": [
            "\n",
            "1. Ordenar alfabeticamente por apellido de manera ascendente\n",
            "2. Ordenar alfabeticamente por apellido de manera descendente\n",
            "\n",
            "Ingrese una opcion: 2\n",
            "\n",
            "1. Salida en lista\n",
            "2. Salida en diccionario\n",
            "\n",
            "Ingrese una opcion: 1\n",
            "Estudiantes 5D: ['Zalazar, Santino Stefano', 'Voltolini, Emanuel Tobias', 'Villalba, Irina', 'Soto Camara, Agustin Ignacio', 'Salem Barba, Mahia', 'Rosales, Francisco Gabriel', 'Retamal Cisneros, Zacarias Josue', 'PORTELLA VALDIVIA, PEDRO FRANCISCO', 'Martinez, Tomas Andres', 'Lezcano, Celia Morena', 'Lascano Guanca, Marcelo Fabricio', 'Lacour Polo, Nazarena', 'Jaime, Anita Maria Belen', 'Guzman, Jazmin Esmeralda Belen', 'Geronimo Soriano, Lizzie Amaya', 'GUZMAN, ANGÉLICA MORENA', 'Flores, Victoria Agustina', 'D Elia, Alvaro Tadeo', 'Correa Segovia, Hugo Mariano', 'Castillo, Paulina Milagros', 'Caseres, Maria Antonia', 'Arenas, Lucas Gabriel', 'Angel, Camila Juliana', 'Alvarado, Ludmila Del Milagro', 'Alurralde, Solange Stefania']\n",
            "Estudiantes 5C: ['Virgillito, Katya Milena', 'Vilte, Mia Antonella Alondra', 'Tapia, Martin Gabriel', 'Sierra, Lucas Mauricio', 'Scarano, Renato Marcelo', 'Sanchez Flores, Matías Agustín', 'Rios, Lucia Magali', 'RASUK, KARIM', 'Messina, Martina', 'Merluzzi Dagum, Ignacio', 'Marinaro, Martin Ezequiel', 'Mamani Garrido, Rosario Agostina', 'Lopez, Victoria Constanza', 'Guanca, Sara Elizabeth', 'Grancara, Martina Luna', 'Giangreco, Vitto Tomasso', 'Galvan, Lourdes Yamila', 'Gallo, Octavio Ismael', 'Flores Cardozo, Agustina Tiara', 'FIGUEROA, SANTINO JOSUE', 'Diaz, Dulce Maitena', 'Colque Rivero, Ariana Zoe Del Valle', 'Bracamonte Martinez, Salvador', 'Bettinelli, Valentino', 'Barrozo Vedia, Joaquin Nicolas', 'Barrera, Matias Ezequiel', 'Argañaraz, Agostina Abril', 'Araoz Sanchez, Lautaro Nahuel', 'Anaquin, Leonardo Ezequiel', 'Amador, Luana Micaela', 'ABUD LASPIUR, LOURDES MARIEL']\n"
          ]
        }
      ]
    },
    {
      "cell_type": "markdown",
      "source": [
        "10. Ordena la lista por fecha de nacimiento, de manera ascendente y descendente."
      ],
      "metadata": {
        "id": "E24lH7x5Xbur"
      }
    },
    {
      "cell_type": "code",
      "source": [
        "print(\"\"\"\n",
        "1. Ordenar por fecha de nacimiento de manera ascendente\n",
        "2. Ordenar por fecha de nacimiento de manera descendente\n",
        "\"\"\")\n",
        "opcion = int(input(\"Ingrese una opcion: \"))\n",
        "if opcion == 1:\n",
        "  estudiantes_5d.sort(key=lambda x: x[2])\n",
        "else:\n",
        "  estudiantes_5d.sort(key=lambda x: x[2], reverse=True)\n",
        "\n",
        "if opcion == 1:\n",
        "  estudiantes_5c.sort(key=lambda x: x[2])\n",
        "else:\n",
        "  estudiantes_5c.sort(key=lambda x: x[2], reverse=True)\n",
        "\n",
        "print(\"\"\"\n",
        "1. Salida en lista\n",
        "2. Salida en diccionario\n",
        "\"\"\")\n",
        "\n",
        "opcion_b = int(input(\"Ingrese una opcion: \"))\n",
        "if opcion_b == 1:\n",
        "  print(\"Estudiantes 5D:\", [estudiante[2] for estudiante in estudiantes_5d])\n",
        "  print(\"Estudiantes 5C:\", [estudiante[2] for estudiante in estudiantes_5c])\n",
        "else:\n",
        "  for estudiante in estudiantes_5d:\n",
        "    print(estudiante)\n",
        "  for estudiante in estudiantes_5c:\n",
        "    print(estudiante)"
      ],
      "metadata": {
        "id": "9SeI3GBGXims",
        "outputId": "2b0b4a89-97be-485c-8b60-ef37b872bfb9",
        "colab": {
          "base_uri": "https://localhost:8080/"
        }
      },
      "execution_count": 71,
      "outputs": [
        {
          "output_type": "stream",
          "name": "stdout",
          "text": [
            "\n",
            "1. Ordenar por fecha de nacimiento de manera ascendente\n",
            "2. Ordenar por fecha de nacimiento de manera descendente\n",
            "\n",
            "Ingrese una opcion: 1\n",
            "\n",
            "1. Salida en lista\n",
            "2. Salida en diccionario\n",
            "\n",
            "Ingrese una opcion: 1\n",
            "Estudiantes 5D: ['01/06/2007', '01/07/2005', '01/07/2006', '02/04/2007', '04/12/2006', '06/09/2006', '07/03/2007', '07/11/2005', '09/09/2006', '11/04/2007', '12/12/2006', '14/10/2005', '14/11/2006', '17/02/2006', '17/09/2006', '19/04/2007', '19/12/2005', '20/01/2007', '22/03/2007', '24/01/2007', '24/02/2007', '26/06/2007', '27/08/2006', '30/09/2006', '31/07/2006']\n",
            "Estudiantes 5C: ['02/11/2005', '03/04/2005', '03/11/2006', '04/08/2006', '05/12/2006', '06/09/2005', '06/12/2006', '09/12/2006', '10/09/2005', '11/10/2006', '11/12/2006', '12/05/2007', '12/07/2006', '12/11/2007', '13/07/2005', '13/07/2007', '15/02/2007', '15/04/2006', '15/12/2006', '17/01/2007', '18/03/2006', '19/06/2007', '19/08/2005', '21/03/2007', '22/09/2006', '22/12/2005', '24/10/2006', '27/02/2007', '27/12/2006', '28/12/2005', '30/05/2006']\n"
          ]
        }
      ]
    },
    {
      "cell_type": "markdown",
      "source": [
        "11. Generar una estuctura de diccionario anidado en donde la clave sea el nombre del estudiante y el valor sea un diccionario con los datos del mismo, de la siguiente manera:\n",
        "\n",
        "\n",
        "\n",
        "\n",
        "```python\n",
        "estudiantes = {\n",
        "    \"Juan Perez\": {\n",
        "        \"año\": 2024,\n",
        "        \"división\": \"5D\",\n",
        "        \"fecha de nacimiento\": \"15/03/2006\"\n",
        "    },\n",
        "    \"Maria Gomez\": {\n",
        "        \"año\": 2024,\n",
        "        \"división\": \"5D\",\n",
        "        \"fecha de nacimiento\": \"22/07/2006\"\n",
        "    },\n",
        "    \"Carlos Lopez\": {\n",
        "        \"año\": 2024,\n",
        "        \"división\": \"5D\",\n",
        "        \"fecha de nacimiento\": \"05/10/2006\"\n",
        "    }\n",
        "}\n",
        "```\n",
        "\n",
        "\n",
        "\n",
        "\n"
      ],
      "metadata": {
        "id": "vOY6K_ydRc3Q"
      }
    },
    {
      "cell_type": "code",
      "source": [
        "estudiantes_5d_01 = {}\n",
        "for i in estudiantes_5d:\n",
        "  estudiantes_5d_01[i[0]] = {\n",
        "      'año': 2024,\n",
        "      'división': i[1],\n",
        "      'fecha de nacimiento': i[2]\n",
        "  }\n",
        "\n",
        "for i in estudiantes_5d_01:\n",
        "  print(i, estudiantes_5d_01[i])\n",
        "\n",
        "estudiantes_5c_01 = {}\n",
        "for i in estudiantes_5c:\n",
        "  estudiantes_5c_01[i[0]] = {\n",
        "      'año': 2024,\n",
        "      'división': i[1],\n",
        "      'fecha de nacimiento': i[2]\n",
        "  }\n",
        "\n",
        "for i in estudiantes_5c_01:\n",
        "  print(i, estudiantes_5c_01[i])"
      ],
      "metadata": {
        "id": "9JDrd3WqRdTi",
        "outputId": "cc765efe-888c-49c9-db2e-d8de4946f55c",
        "colab": {
          "base_uri": "https://localhost:8080/"
        }
      },
      "execution_count": 70,
      "outputs": [
        {
          "output_type": "stream",
          "name": "stdout",
          "text": [
            "Zalazar, Santino Stefano {'año': 2024, 'división': 'D', 'fecha de nacimiento': '30/09/2006'}\n",
            "Voltolini, Emanuel Tobias {'año': 2024, 'división': 'D', 'fecha de nacimiento': '17/09/2006'}\n",
            "Villalba, Irina {'año': 2024, 'división': 'D', 'fecha de nacimiento': '09/09/2006'}\n",
            "Soto Camara, Agustin Ignacio {'año': 2024, 'división': 'D', 'fecha de nacimiento': '07/11/2005'}\n",
            "Salem Barba, Mahia {'año': 2024, 'división': 'D', 'fecha de nacimiento': '14/10/2005'}\n",
            "Rosales, Francisco Gabriel {'año': 2024, 'división': 'D', 'fecha de nacimiento': '14/11/2006'}\n",
            "Retamal Cisneros, Zacarias Josue {'año': 2024, 'división': 'D', 'fecha de nacimiento': '24/02/2007'}\n",
            "PORTELLA VALDIVIA, PEDRO FRANCISCO {'año': 2024, 'división': 'D', 'fecha de nacimiento': '24/01/2007'}\n",
            "Martinez, Tomas Andres {'año': 2024, 'división': 'D', 'fecha de nacimiento': '22/03/2007'}\n",
            "Lezcano, Celia Morena {'año': 2024, 'división': 'D', 'fecha de nacimiento': '01/07/2005'}\n",
            "Lascano Guanca, Marcelo Fabricio {'año': 2024, 'división': 'D', 'fecha de nacimiento': '17/02/2006'}\n",
            "Lacour Polo, Nazarena {'año': 2024, 'división': 'D', 'fecha de nacimiento': '19/12/2005'}\n",
            "Jaime, Anita Maria Belen {'año': 2024, 'división': 'D', 'fecha de nacimiento': '19/04/2007'}\n",
            "Guzman, Jazmin Esmeralda Belen {'año': 2024, 'división': 'D', 'fecha de nacimiento': '31/07/2006'}\n",
            "Geronimo Soriano, Lizzie Amaya {'año': 2024, 'división': 'D', 'fecha de nacimiento': '20/01/2007'}\n",
            "GUZMAN, ANGÉLICA MORENA {'año': 2024, 'división': 'D', 'fecha de nacimiento': '11/04/2007'}\n",
            "Flores, Victoria Agustina {'año': 2024, 'división': 'D', 'fecha de nacimiento': '12/12/2006'}\n",
            "D Elia, Alvaro Tadeo {'año': 2024, 'división': 'D', 'fecha de nacimiento': '27/08/2006'}\n",
            "Correa Segovia, Hugo Mariano {'año': 2024, 'división': 'D', 'fecha de nacimiento': '04/12/2006'}\n",
            "Castillo, Paulina Milagros {'año': 2024, 'división': 'D', 'fecha de nacimiento': '01/06/2007'}\n",
            "Caseres, Maria Antonia {'año': 2024, 'división': 'D', 'fecha de nacimiento': '01/07/2006'}\n",
            "Arenas, Lucas Gabriel {'año': 2024, 'división': 'D', 'fecha de nacimiento': '26/06/2007'}\n",
            "Angel, Camila Juliana {'año': 2024, 'división': 'D', 'fecha de nacimiento': '07/03/2007'}\n",
            "Alvarado, Ludmila Del Milagro {'año': 2024, 'división': 'D', 'fecha de nacimiento': '06/09/2006'}\n",
            "Alurralde, Solange Stefania {'año': 2024, 'división': 'D', 'fecha de nacimiento': '02/04/2007'}\n",
            "Virgillito, Katya Milena {'año': 2024, 'división': 'C', 'fecha de nacimiento': '19/06/2007'}\n",
            "Vilte, Mia Antonella Alondra {'año': 2024, 'división': 'C', 'fecha de nacimiento': '10/09/2005'}\n",
            "Tapia, Martin Gabriel {'año': 2024, 'división': 'C', 'fecha de nacimiento': '30/05/2006'}\n",
            "Sierra, Lucas Mauricio {'año': 2024, 'división': 'C', 'fecha de nacimiento': '03/04/2005'}\n",
            "Scarano, Renato Marcelo {'año': 2024, 'división': 'C', 'fecha de nacimiento': '06/12/2006'}\n",
            "Sanchez Flores, Matías Agustín {'año': 2024, 'división': 'C', 'fecha de nacimiento': '15/02/2007'}\n",
            "Rios, Lucia Magali {'año': 2024, 'división': 'C', 'fecha de nacimiento': '22/09/2006'}\n",
            "RASUK, KARIM {'año': 2024, 'división': 'C', 'fecha de nacimiento': '13/07/2007'}\n",
            "Messina, Martina {'año': 2024, 'división': 'C', 'fecha de nacimiento': '13/07/2005'}\n",
            "Merluzzi Dagum, Ignacio {'año': 2024, 'división': 'C', 'fecha de nacimiento': '22/12/2005'}\n",
            "Marinaro, Martin Ezequiel {'año': 2024, 'división': 'C', 'fecha de nacimiento': '03/11/2006'}\n",
            "Mamani Garrido, Rosario Agostina {'año': 2024, 'división': 'C', 'fecha de nacimiento': '24/10/2006'}\n",
            "Lopez, Victoria Constanza {'año': 2024, 'división': 'C', 'fecha de nacimiento': '12/11/2007'}\n",
            "Guanca, Sara Elizabeth {'año': 2024, 'división': 'C', 'fecha de nacimiento': '17/01/2007'}\n",
            "Grancara, Martina Luna {'año': 2024, 'división': 'C', 'fecha de nacimiento': '15/12/2006'}\n",
            "Giangreco, Vitto Tomasso {'año': 2024, 'división': 'C', 'fecha de nacimiento': '21/03/2007'}\n",
            "Galvan, Lourdes Yamila {'año': 2024, 'división': 'C', 'fecha de nacimiento': '19/08/2005'}\n",
            "Gallo, Octavio Ismael {'año': 2024, 'división': 'C', 'fecha de nacimiento': '04/08/2006'}\n",
            "Flores Cardozo, Agustina Tiara {'año': 2024, 'división': 'C', 'fecha de nacimiento': '18/03/2006'}\n",
            "FIGUEROA, SANTINO JOSUE {'año': 2024, 'división': 'C', 'fecha de nacimiento': '12/05/2007'}\n",
            "Diaz, Dulce Maitena {'año': 2024, 'división': 'C', 'fecha de nacimiento': '11/12/2006'}\n",
            "Colque Rivero, Ariana Zoe Del Valle {'año': 2024, 'división': 'C', 'fecha de nacimiento': '27/12/2006'}\n",
            "Bracamonte Martinez, Salvador {'año': 2024, 'división': 'C', 'fecha de nacimiento': '02/11/2005'}\n",
            "Bettinelli, Valentino {'año': 2024, 'división': 'C', 'fecha de nacimiento': '12/07/2006'}\n",
            "Barrozo Vedia, Joaquin Nicolas {'año': 2024, 'división': 'C', 'fecha de nacimiento': '15/04/2006'}\n",
            "Barrera, Matias Ezequiel {'año': 2024, 'división': 'C', 'fecha de nacimiento': '27/02/2007'}\n",
            "Argañaraz, Agostina Abril {'año': 2024, 'división': 'C', 'fecha de nacimiento': '11/10/2006'}\n",
            "Araoz Sanchez, Lautaro Nahuel {'año': 2024, 'división': 'C', 'fecha de nacimiento': '28/12/2005'}\n",
            "Anaquin, Leonardo Ezequiel {'año': 2024, 'división': 'C', 'fecha de nacimiento': '06/09/2005'}\n",
            "Amador, Luana Micaela {'año': 2024, 'división': 'C', 'fecha de nacimiento': '09/12/2006'}\n",
            "ABUD LASPIUR, LOURDES MARIEL {'año': 2024, 'división': 'C', 'fecha de nacimiento': '05/12/2006'}\n"
          ]
        }
      ]
    }
  ]
}