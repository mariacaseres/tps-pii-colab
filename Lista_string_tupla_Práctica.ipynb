{
  "nbformat": 4,
  "nbformat_minor": 0,
  "metadata": {
    "colab": {
      "provenance": [],
      "include_colab_link": true
    },
    "kernelspec": {
      "name": "python3",
      "display_name": "Python 3"
    },
    "language_info": {
      "name": "python"
    }
  },
  "cells": [
    {
      "cell_type": "markdown",
      "metadata": {
        "id": "view-in-github",
        "colab_type": "text"
      },
      "source": [
        "<a href=\"https://colab.research.google.com/github/mariacaseres/tps-pii-colab/blob/main/Lista_string_tupla_Pr%C3%A1ctica.ipynb\" target=\"_parent\"><img src=\"https://colab.research.google.com/assets/colab-badge.svg\" alt=\"Open In Colab\"/></a>"
      ]
    },
    {
      "cell_type": "code",
      "execution_count": null,
      "metadata": {
        "id": "8VOD-zpMJovw"
      },
      "outputs": [],
      "source": [
        "# Lista de alumnos\n",
        "alumnos = [\n",
        "    \"Alurralde, Solange Stefania\",\n",
        "    \"Alvarado, Ludmila Del Milagro\",\n",
        "    \"Angel, Camila Juliana\",\n",
        "    \"Arenas, Lucas Gabriel\",\n",
        "    \"Caseres, Maria Antonia\",\n",
        "    \"Castillo, Paulina Milagros\",\n",
        "    \"Correa Segovia, Hugo Mariano\",\n",
        "    \"D Elia, Alvaro Tadeo\",\n",
        "    \"Flores, Victoria Agustina\",\n",
        "    \"Geronimo Soriano, Lizzie Amaya\",\n",
        "    \"GUZMAN, ANGÉLICA MORENA\",\n",
        "    \"Guzman, Jazmin Esmeralda Belen\",\n",
        "    \"Jaime, Anita Maria Belen\",\n",
        "    \"Lacour Polo, Nazarena\",\n",
        "    \"Lascano Guanca, Marcelo Fabricio\",\n",
        "    \"Lezcano, Celia Morena\",\n",
        "    \"Mamani Kynast, Nicolas Mauricio\",\n",
        "    \"Martinez, Tomas Andres\",\n",
        "    \"PORTELLA VALDIVIA, PEDRO FRANCISCO\",\n",
        "    \"Retamal Cisneros, Zacarias Josue\",\n",
        "    \"Rosales, Francisco Gabriel\",\n",
        "    \"Salem Barba, Mahia\",\n",
        "    \"Soto Camara, Agustin Ignacio\",\n",
        "    \"Villalba, Irina\",\n",
        "    \"Voltolini, Emanuel Tobias\",\n",
        "    \"Zalazar, Santino Stefano\",\n",
        "    \"ABUD LASPIUR, LOURDES MARIEL\",\n",
        "    \"Amador, Luana Micaela\",\n",
        "    \"Anaquin, Leonardo Ezequiel\",\n",
        "    \"Araoz Sanchez, Lautaro Nahuel\",\n",
        "    \"Argañaraz, Agostina Abril\",\n",
        "    \"Barrera, Matias Ezequiel\",\n",
        "    \"Barrozo Vedia, Joaquin Nicolas\",\n",
        "    \"Bettinelli, Valentino\",\n",
        "    \"Bracamonte Martinez, Salvador\",\n",
        "    \"Colque Rivero, Ariana Zoe Del Valle\",\n",
        "    \"Diaz, Dulce Maitena\",\n",
        "    \"FIGUEROA, SANTINO JOSUE\",\n",
        "    \"Flores Cardozo, Agustina Tiara\",\n",
        "    \"Gallo, Octavio Ismael\",\n",
        "    \"Galvan, Lourdes Yamila\",\n",
        "    \"Giangreco, Vitto Tomasso\",\n",
        "    \"Grancara, Martina Luna\",\n",
        "    \"Guanca, Sara Elizabeth\",\n",
        "    \"Lopez, Victoria Constanza\",\n",
        "    \"Mamani Garrido, Rosario Agostina\",\n",
        "    \"Marinaro, Martin Ezequiel\",\n",
        "    \"Merluzzi Dagum, Ignacio\",\n",
        "    \"Messina, Martina\",\n",
        "    \"RASUK, KARIM\", \"Rios, Lucia Magali\",\n",
        "    \"Sanchez Flores, Matías Agustín\",\n",
        "    \"Scarano, Renato Marcelo\",\n",
        "    \"Sierra, Lucas Mauricio\",\n",
        "    \"Tapia, Martin Gabriel\",\n",
        "    \"Vilte, Mia Antonella Alondra\",\n",
        "    \"Virgillito, Katya Milena\"\n",
        "]"
      ]
    },
    {
      "cell_type": "markdown",
      "source": [
        "## Dada la lista estudiantes:\n",
        "> - Hacer una celda para resolver cada punto.\n",
        "- El TP resuelto será revisado en tu repositorio, no es necesario que lo envíes, pero sí que lo pushees correctamente.\n",
        "- En la nota inicial se contempla:\n",
        "  - La creación del fork.\n",
        "  - El pusheo de los cambios realizados.\n",
        "  - La resolución de los ejercicios propuestos.\n"
      ],
      "metadata": {
        "id": "rd6Ug6v3J4uN"
      }
    },
    {
      "cell_type": "markdown",
      "source": [
        "1. Reemplaza todos los valores por los que obtengas del método title(). De esta manera tu lista quedara con los datos más homogéneos."
      ],
      "metadata": {
        "id": "wRLng-uURyJ3"
      }
    },
    {
      "cell_type": "code",
      "source": [
        "for i in range(len(alumnos)):\n",
        "  alumnos[i] = alumnos[i].title()"
      ],
      "metadata": {
        "id": "8_-pTJ7UmqPY"
      },
      "execution_count": null,
      "outputs": []
    },
    {
      "cell_type": "code",
      "source": [
        "for alumno in alumnos:\n",
        "  print(alumno)"
      ],
      "metadata": {
        "id": "sfSQV2s63TRA",
        "outputId": "bea04366-4f5f-49a8-eba3-4637f0ac6c58",
        "colab": {
          "base_uri": "https://localhost:8080/"
        }
      },
      "execution_count": null,
      "outputs": [
        {
          "output_type": "stream",
          "name": "stdout",
          "text": [
            "Alurralde, Solange Stefania\n",
            "Alvarado, Ludmila Del Milagro\n",
            "Angel, Camila Juliana\n",
            "Arenas, Lucas Gabriel\n",
            "Caseres, Maria Antonia\n",
            "Castillo, Paulina Milagros\n",
            "Correa Segovia, Hugo Mariano\n",
            "D Elia, Alvaro Tadeo\n",
            "Flores, Victoria Agustina\n",
            "Geronimo Soriano, Lizzie Amaya\n",
            "GUZMAN, ANGÉLICA MORENA\n",
            "Guzman, Jazmin Esmeralda Belen\n",
            "Jaime, Anita Maria Belen\n",
            "Lacour Polo, Nazarena\n",
            "Lascano Guanca, Marcelo Fabricio\n",
            "Lezcano, Celia Morena\n",
            "Mamani Kynast, Nicolas Mauricio\n",
            "Martinez, Tomas Andres\n",
            "PORTELLA VALDIVIA, PEDRO FRANCISCO\n",
            "Retamal Cisneros, Zacarias Josue\n",
            "Rosales, Francisco Gabriel\n",
            "Salem Barba, Mahia\n",
            "Soto Camara, Agustin Ignacio\n",
            "Villalba, Irina\n",
            "Voltolini, Emanuel Tobias\n",
            "Zalazar, Santino Stefano\n",
            "ABUD LASPIUR, LOURDES MARIEL\n",
            "Amador, Luana Micaela\n",
            "Anaquin, Leonardo Ezequiel\n",
            "Araoz Sanchez, Lautaro Nahuel\n",
            "Argañaraz, Agostina Abril\n",
            "Barrera, Matias Ezequiel\n",
            "Barrozo Vedia, Joaquin Nicolas\n",
            "Bettinelli, Valentino\n",
            "Bracamonte Martinez, Salvador\n",
            "Colque Rivero, Ariana Zoe Del Valle\n",
            "Diaz, Dulce Maitena\n",
            "FIGUEROA, SANTINO JOSUE\n",
            "Flores Cardozo, Agustina Tiara\n",
            "Gallo, Octavio Ismael\n",
            "Galvan, Lourdes Yamila\n",
            "Giangreco, Vitto Tomasso\n",
            "Grancara, Martina Luna\n",
            "Guanca, Sara Elizabeth\n",
            "Lopez, Victoria Constanza\n",
            "Mamani Garrido, Rosario Agostina\n",
            "Marinaro, Martin Ezequiel\n",
            "Merluzzi Dagum, Ignacio\n",
            "Messina, Martina\n",
            "RASUK, KARIM\n",
            "Rios, Lucia Magali\n",
            "Sanchez Flores, Matías Agustín\n",
            "Scarano, Renato Marcelo\n",
            "Sierra, Lucas Mauricio\n",
            "Tapia, Martin Gabriel\n",
            "Vilte, Mia Antonella Alondra\n",
            "Virgillito, Katya Milena\n"
          ]
        }
      ]
    },
    {
      "cell_type": "markdown",
      "source": [
        "2. Desarrolla un script que permita ingresar un nombre y muestre cuantas veces aparece este en la lista\n"
      ],
      "metadata": {
        "id": "dYEGkYZyLy9I"
      }
    },
    {
      "cell_type": "code",
      "source": [
        "passnombre = input(\"Ingrese un nombre: \").title()\n",
        "nombres = []\n",
        "for alumno in alumnos:\n",
        "  alumno_nombres = alumno.replace(',','').split()\n",
        "  nombres.extend(alumno_nombres)\n",
        "print(f\"El nombre {nombre} parece {nombres.count(nombre)} veces en la lista\")"
      ],
      "metadata": {
        "id": "2EzQjUqbmvTB"
      },
      "execution_count": null,
      "outputs": []
    },
    {
      "cell_type": "markdown",
      "source": [
        "3. Desarrolla un script en python que permita ingresar un nombre y mostrar en que posición de la lista se encuentra el mismo. Realiza las combinaciones necesarias para que no se genere un error si es que el nombre no existe."
      ],
      "metadata": {
        "id": "UW2dlBsGMAte"
      }
    },
    {
      "cell_type": "code",
      "source": [
        "nombre= input(\"Ingrese un nombre: \").title()\n",
        "if nombre in alumnos:\n",
        "  posicion = alumnos.index(nombre)\n",
        "  print(f\"El alumno está en la posicion {posicion}\")\n",
        "else:\n",
        "  print(f\"EL alumno no está en la lista\")"
      ],
      "metadata": {
        "id": "WG4Eae3PnAog",
        "colab": {
          "base_uri": "https://localhost:8080/"
        },
        "outputId": "d1dd1743-2232-4618-ac8d-95e55609c7ff"
      },
      "execution_count": 4,
      "outputs": [
        {
          "metadata": {
            "tags": null
          },
          "name": "stdout",
          "output_type": "stream",
          "text": [
            "EL alumno no está en la lista\n"
          ]
        }
      ]
    },
    {
      "cell_type": "markdown",
      "source": [
        "4. Agrega un nombre al final de la lista, otro al principio y otro en la posición anterior a la de tu nombre en la lista. Tene en cuenta el formato usado para ingresar los datos: \"apellidos, nombres\""
      ],
      "metadata": {
        "id": "kZeEHUYVNwGV"
      }
    },
    {
      "cell_type": "code",
      "source": [
        "# Inserta al final\n",
        "nombres = input(\"Ingrese los nombres del estudiante: \").title()\n",
        "apellidos = input(\"Ingrese los apellidos del estudiante: \").title()\n",
        "nombre_completo = apellidos+\", \"+nombres\n",
        "alumnos.append(nombre_completo)"
      ],
      "metadata": {
        "id": "A9u8sTsKnDEx",
        "colab": {
          "base_uri": "https://localhost:8080/"
        },
        "outputId": "72eeb5ee-c9a2-43d0-a88a-282791f606b9"
      },
      "execution_count": 5,
      "outputs": [
        {
          "name": "stdout",
          "output_type": "stream",
          "text": [
            "Ingrese los apellidos del estudiante: maria\n"
          ]
        }
      ]
    },
    {
      "cell_type": "code",
      "source": [
        "# Inserta al principio\n",
        "nombres = input(\"Ingrese los nombres del estudiante: \").title()\n",
        "apellidos = input(\"Ingrese los apellidos del estudiante: \").title()\n",
        "nombre_completo = apellidos+\", \"+nombres\n",
        "alumnos.insert(0,nombre_completo)"
      ],
      "metadata": {
        "colab": {
          "base_uri": "https://localhost:8080/"
        },
        "id": "Gnd0T6l05VuG",
        "outputId": "b42074a4-c9af-4f26-8952-ab6f5f7fa8b6"
      },
      "execution_count": 14,
      "outputs": [
        {
          "name": "stdout",
          "output_type": "stream",
          "text": [
            "Ingrese los nombres del estudiante: maria\n",
            "Ingrese los apellidos del estudiante: caseres\n"
          ]
        }
      ]
    },
    {
      "cell_type": "code",
      "source": [
        "# Antes de mi nombre\n",
        "\n",
        "nombres = input(\"Ingrese los nombres del estudiante: \").title()\n",
        "apellidos = input(\"Ingrese los apellidos del estudiante: \").title()\n",
        "nombre_completo = apellidos+\", \"+nombres\n",
        "\n",
        "\n",
        "nombre= \"Retamal Cisneros, Zacarias Josue\"\n",
        "if nombre in alumnos:\n",
        "  posicion = alumnos.index(nombre)\n",
        "  alumnos.insert(posicion,nombre_completo)\n",
        "else:\n",
        "  print(f\"EL alumno no está en la lista\")"
      ],
      "metadata": {
        "colab": {
          "base_uri": "https://localhost:8080/"
        },
        "id": "7MMOEKKi5bf3",
        "outputId": "b81d42fe-308a-4555-f756-944567d48a93"
      },
      "execution_count": 15,
      "outputs": [
        {
          "output_type": "stream",
          "name": "stdout",
          "text": [
            "Ingrese los nombres del estudiante: jqzmin\n",
            "Ingrese los apellidos del estudiante: guzmqn\n",
            "EL alumno no está en la lista\n"
          ]
        }
      ]
    },
    {
      "cell_type": "code",
      "source": [
        "for alumno in alumnos:\n",
        "  print(alumno)"
      ],
      "metadata": {
        "colab": {
          "base_uri": "https://localhost:8080/"
        },
        "id": "yLJWvqdN5k2i",
        "outputId": "2310bf33-af2f-4c23-9024-f526e1f0e2f8"
      },
      "execution_count": 16,
      "outputs": [
        {
          "output_type": "stream",
          "name": "stdout",
          "text": [
            "Caseres, Maria\n"
          ]
        }
      ]
    },
    {
      "cell_type": "markdown",
      "source": [],
      "metadata": {
        "id": "bRTbW98G35XL"
      }
    },
    {
      "cell_type": "markdown",
      "source": [
        "5. Mostrá cada elemento de la lista mientras la vacias usando el metodo pop(). Para lograr esto usá la estructura while.\n",
        "\n",
        "Tene en cuenta que:\n",
        "\n",
        "\n",
        ">```python\n",
        "bool([]) = False\n",
        "```\n",
        "\n"
      ],
      "metadata": {
        "id": "b_we1Oz4OUBN"
      }
    },
    {
      "cell_type": "code",
      "source": [
        "while alumnos:\n",
        "  un_alumno = alumnos.pop()\n",
        "  print(un_alumno)"
      ],
      "metadata": {
        "id": "bjn9DhewPhWF",
        "colab": {
          "base_uri": "https://localhost:8080/"
        },
        "outputId": "3708c115-1f2d-40cd-8f3c-a5eabbc178f8"
      },
      "execution_count": 12,
      "outputs": [
        {
          "output_type": "stream",
          "name": "stdout",
          "text": [
            "Zalazar, Santino Stefano\n",
            "Voltolini, Emanuel Tobias\n",
            "Virgillito, Katya Milena\n",
            "Vilte, Mia Antonella Alondra\n",
            "Villalba, Irina\n",
            "Tapia, Martin Gabriel\n",
            "Soto Camara, Agustin Ignacio\n",
            "Sierra, Lucas Mauricio\n",
            "Scarano, Renato Marcelo\n",
            "Sanchez Flores, Matías Agustín\n",
            "Salem Barba, Mahia\n",
            "Rosales, Francisco Gabriel\n",
            "Rios, Lucia Magali\n",
            "Retamal Cisneros, Zacarias Josue\n",
            "RASUK, KARIM\n",
            "PORTELLA VALDIVIA, PEDRO FRANCISCO\n",
            "Messina, Martina\n",
            "Merluzzi Dagum, Ignacio\n",
            "Martinez, Tomas Andres\n",
            "Marinaro, Martin Ezequiel\n",
            "Maria, Jazmin\n",
            "Mamani Kynast, Nicolas Mauricio\n",
            "Mamani Garrido, Rosario Agostina\n",
            "Lopez, Victoria Constanza\n",
            "Lezcano, Celia Morena\n",
            "Lascano Guanca, Marcelo Fabricio\n",
            "Lacour Polo, Nazarena\n",
            "Jaime, Anita Maria Belen\n",
            "Guzman, Jazmin Esmeralda Belen\n",
            "Guanca, Sara Elizabeth\n",
            "Grancara, Martina Luna\n",
            "Giangreco, Vitto Tomasso\n",
            "Geronimo Soriano, Lizzie Amaya\n",
            "Galvan, Lourdes Yamila\n",
            "Gallo, Octavio Ismael\n",
            "GUZMAN, ANGÉLICA MORENA\n",
            "Flores, Victoria Agustina\n",
            "Flores Cardozo, Agustina Tiara\n",
            "FIGUEROA, SANTINO JOSUE\n",
            "Diaz, Dulce Maitena\n",
            "D Elia, Alvaro Tadeo\n",
            "Correa Segovia, Hugo Mariano\n",
            "Colque Rivero, Ariana Zoe Del Valle\n",
            "Castillo, Paulina Milagros\n",
            "Caseres, Maria Antonia\n",
            "Bracamonte Martinez, Salvador\n",
            "Bettinelli, Valentino\n",
            "Barrozo Vedia, Joaquin Nicolas\n",
            "Barrera, Matias Ezequiel\n",
            "Argañaraz, Agostina Abril\n",
            "Arenas, Lucas Gabriel\n",
            "Araoz Sanchez, Lautaro Nahuel\n",
            "Angel, Camila Juliana\n",
            "Anaquin, Leonardo Ezequiel\n",
            "Amador, Luana Micaela\n",
            "Alvarado, Ludmila Del Milagro\n",
            "Alurralde, Solange Stefania\n",
            "ABUD LASPIUR, LOURDES MARIEL\n"
          ]
        }
      ]
    },
    {
      "cell_type": "code",
      "source": [
        "print(alumnos)"
      ],
      "metadata": {
        "id": "ed1zmgRU5xOu"
      },
      "execution_count": null,
      "outputs": []
    },
    {
      "cell_type": "markdown",
      "source": [
        "6. Crea un menú para ordenar la lista de manera ascendente o descendente. Realiza esta acción y muestra el resultado según la opción elegida por el usuario."
      ],
      "metadata": {
        "id": "xY4BuqGdQBF1"
      }
    },
    {
      "cell_type": "code",
      "source": [
        "print(\"\"\"\n",
        "      a - Ordenar de manera asendente\n",
        "      d - Odenar la lista de manera descendente\n",
        "      Ingrese una opcion:\"\"\")\n",
        "op = input().lower() #A --> a\n",
        "if op == 'a':\n",
        "  alumnos.sort()\n",
        "elif op == 'd':\n",
        "  alumnos.sort(reverse= True)\n",
        "else:\n",
        "  print(\"La opcion ingresada no es correcta\")\n",
        "\n",
        "for alumno in alumnos:\n",
        "  print(alumno)"
      ],
      "metadata": {
        "id": "NKR3ciBKSjhr",
        "colab": {
          "base_uri": "https://localhost:8080/"
        },
        "outputId": "685c144c-0c0a-47b8-e0af-d8135f8ee255"
      },
      "execution_count": 10,
      "outputs": [
        {
          "output_type": "stream",
          "name": "stdout",
          "text": [
            "\n",
            "      a - Ordenar de manera asendente\n",
            "      d - Odenar la lista de manera descendente\n",
            "      Ingrese una opcion:\n",
            "a\n",
            "ABUD LASPIUR, LOURDES MARIEL\n",
            "Alurralde, Solange Stefania\n",
            "Alvarado, Ludmila Del Milagro\n",
            "Amador, Luana Micaela\n",
            "Anaquin, Leonardo Ezequiel\n",
            "Angel, Camila Juliana\n",
            "Araoz Sanchez, Lautaro Nahuel\n",
            "Arenas, Lucas Gabriel\n",
            "Argañaraz, Agostina Abril\n",
            "Barrera, Matias Ezequiel\n",
            "Barrozo Vedia, Joaquin Nicolas\n",
            "Bettinelli, Valentino\n",
            "Bracamonte Martinez, Salvador\n",
            "Caseres, Maria Antonia\n",
            "Castillo, Paulina Milagros\n",
            "Colque Rivero, Ariana Zoe Del Valle\n",
            "Correa Segovia, Hugo Mariano\n",
            "D Elia, Alvaro Tadeo\n",
            "Diaz, Dulce Maitena\n",
            "FIGUEROA, SANTINO JOSUE\n",
            "Flores Cardozo, Agustina Tiara\n",
            "Flores, Victoria Agustina\n",
            "GUZMAN, ANGÉLICA MORENA\n",
            "Gallo, Octavio Ismael\n",
            "Galvan, Lourdes Yamila\n",
            "Geronimo Soriano, Lizzie Amaya\n",
            "Giangreco, Vitto Tomasso\n",
            "Grancara, Martina Luna\n",
            "Guanca, Sara Elizabeth\n",
            "Guzman, Jazmin Esmeralda Belen\n",
            "Jaime, Anita Maria Belen\n",
            "Lacour Polo, Nazarena\n",
            "Lascano Guanca, Marcelo Fabricio\n",
            "Lezcano, Celia Morena\n",
            "Lopez, Victoria Constanza\n",
            "Mamani Garrido, Rosario Agostina\n",
            "Mamani Kynast, Nicolas Mauricio\n",
            "Maria, Jazmin\n",
            "Marinaro, Martin Ezequiel\n",
            "Martinez, Tomas Andres\n",
            "Merluzzi Dagum, Ignacio\n",
            "Messina, Martina\n",
            "PORTELLA VALDIVIA, PEDRO FRANCISCO\n",
            "RASUK, KARIM\n",
            "Retamal Cisneros, Zacarias Josue\n",
            "Rios, Lucia Magali\n",
            "Rosales, Francisco Gabriel\n",
            "Salem Barba, Mahia\n",
            "Sanchez Flores, Matías Agustín\n",
            "Scarano, Renato Marcelo\n",
            "Sierra, Lucas Mauricio\n",
            "Soto Camara, Agustin Ignacio\n",
            "Tapia, Martin Gabriel\n",
            "Villalba, Irina\n",
            "Vilte, Mia Antonella Alondra\n",
            "Virgillito, Katya Milena\n",
            "Voltolini, Emanuel Tobias\n",
            "Zalazar, Santino Stefano\n"
          ]
        }
      ]
    },
    {
      "cell_type": "markdown",
      "source": [
        "7. - Crea, a partir de la lista estudiantes, una nueva lista tupla_estudiantes que contenga los nombres en formato de tuplas, donde el primer elemento sea el apellido y el segundo el nombre.\n",
        "  - Muestra cada tupla de la nueva lista.\n"
      ],
      "metadata": {
        "id": "7wb4sRbOSkdM"
      }
    },
    {
      "cell_type": "code",
      "source": [
        "tupla_estudiantes = []\n",
        "for alumno in alumnos:\n",
        "  apellido,nombre = alumno.split(',')\n",
        "  nombre = nombre.strip()\n",
        "  tupla_estudiantes.append((apellido,nombre))\n",
        "\n",
        "for alumno in tupla_estudiantes:\n",
        "  print(alumno)"
      ],
      "metadata": {
        "id": "f9v0mfoZS9_s",
        "colab": {
          "base_uri": "https://localhost:8080/"
        },
        "outputId": "91b45d64-0a93-45ae-ae4e-c9aba64673bd"
      },
      "execution_count": 9,
      "outputs": [
        {
          "output_type": "stream",
          "name": "stdout",
          "text": [
            "('Alurralde', 'Solange Stefania')\n",
            "('Alvarado', 'Ludmila Del Milagro')\n",
            "('Angel', 'Camila Juliana')\n",
            "('Arenas', 'Lucas Gabriel')\n",
            "('Caseres', 'Maria Antonia')\n",
            "('Castillo', 'Paulina Milagros')\n",
            "('Correa Segovia', 'Hugo Mariano')\n",
            "('D Elia', 'Alvaro Tadeo')\n",
            "('Flores', 'Victoria Agustina')\n",
            "('Geronimo Soriano', 'Lizzie Amaya')\n",
            "('GUZMAN', 'ANGÉLICA MORENA')\n",
            "('Guzman', 'Jazmin Esmeralda Belen')\n",
            "('Jaime', 'Anita Maria Belen')\n",
            "('Lacour Polo', 'Nazarena')\n",
            "('Lascano Guanca', 'Marcelo Fabricio')\n",
            "('Lezcano', 'Celia Morena')\n",
            "('Mamani Kynast', 'Nicolas Mauricio')\n",
            "('Martinez', 'Tomas Andres')\n",
            "('PORTELLA VALDIVIA', 'PEDRO FRANCISCO')\n",
            "('Retamal Cisneros', 'Zacarias Josue')\n",
            "('Rosales', 'Francisco Gabriel')\n",
            "('Salem Barba', 'Mahia')\n",
            "('Soto Camara', 'Agustin Ignacio')\n",
            "('Villalba', 'Irina')\n",
            "('Voltolini', 'Emanuel Tobias')\n",
            "('Zalazar', 'Santino Stefano')\n",
            "('ABUD LASPIUR', 'LOURDES MARIEL')\n",
            "('Amador', 'Luana Micaela')\n",
            "('Anaquin', 'Leonardo Ezequiel')\n",
            "('Araoz Sanchez', 'Lautaro Nahuel')\n",
            "('Argañaraz', 'Agostina Abril')\n",
            "('Barrera', 'Matias Ezequiel')\n",
            "('Barrozo Vedia', 'Joaquin Nicolas')\n",
            "('Bettinelli', 'Valentino')\n",
            "('Bracamonte Martinez', 'Salvador')\n",
            "('Colque Rivero', 'Ariana Zoe Del Valle')\n",
            "('Diaz', 'Dulce Maitena')\n",
            "('FIGUEROA', 'SANTINO JOSUE')\n",
            "('Flores Cardozo', 'Agustina Tiara')\n",
            "('Gallo', 'Octavio Ismael')\n",
            "('Galvan', 'Lourdes Yamila')\n",
            "('Giangreco', 'Vitto Tomasso')\n",
            "('Grancara', 'Martina Luna')\n",
            "('Guanca', 'Sara Elizabeth')\n",
            "('Lopez', 'Victoria Constanza')\n",
            "('Mamani Garrido', 'Rosario Agostina')\n",
            "('Marinaro', 'Martin Ezequiel')\n",
            "('Merluzzi Dagum', 'Ignacio')\n",
            "('Messina', 'Martina')\n",
            "('RASUK', 'KARIM')\n",
            "('Rios', 'Lucia Magali')\n",
            "('Sanchez Flores', 'Matías Agustín')\n",
            "('Scarano', 'Renato Marcelo')\n",
            "('Sierra', 'Lucas Mauricio')\n",
            "('Tapia', 'Martin Gabriel')\n",
            "('Vilte', 'Mia Antonella Alondra')\n",
            "('Virgillito', 'Katya Milena')\n",
            "('Maria', 'Jazmin')\n"
          ]
        }
      ]
    },
    {
      "cell_type": "markdown",
      "source": [
        "8. Crea un menú como el del ejercicio 6, pero ahora permite elegir si ordenar alfabéticamente por nombre o por apellido.\n",
        "> Para resolver este ejercicio, solicitar ayuda en clase o en el foro\n"
      ],
      "metadata": {
        "id": "PziNZOOBS_UQ"
      }
    },
    {
      "cell_type": "code",
      "source": [
        "def segunda_posicion(tupla):\n",
        "  return tupla[1]\n",
        "\n",
        "nombre = ('Alurralde', 'Solange Stefania')\n",
        "print(segunda_posicion(nombre))"
      ],
      "metadata": {
        "id": "v72o7Pix76H9",
        "colab": {
          "base_uri": "https://localhost:8080/"
        },
        "outputId": "05ef45c9-bf58-4f3e-bac3-882b8ae7b895"
      },
      "execution_count": 7,
      "outputs": [
        {
          "output_type": "stream",
          "name": "stdout",
          "text": [
            "Solange Stefania\n"
          ]
        }
      ]
    },
    {
      "cell_type": "code",
      "source": [
        "print(\"\"\"\n",
        "an - Ordenar ascendentemente por nombre\n",
        "aa - Ordenar ascendentemente por apellido\n",
        "dn - Ordenar descendentemente por nombre\n",
        "da - Ordenar descendentemente por apellido\n",
        "Ingrese una opcion: \"\"\")\n",
        "op = input().lower()\n",
        "if op == 'an':\n",
        "  tupla_estudiantes.sort(key=segunda_posicion)\n",
        "elif op == 'aa':\n",
        "  tupla_estudiantes.sort()\n",
        "elif op == 'dn':\n",
        "  tupla_estudiantes.sort(key=segunda_posicion,reverse=True)\n",
        "elif op == 'da':\n",
        "  tupla_estudiantes.sort(reverse= True)\n",
        "else:\n",
        "  print(\"La opcion ingresada es incorrecta\")\n",
        "for estudiante in tupla_estudiantes:\n",
        "  print(estudiante)"
      ],
      "metadata": {
        "id": "X7Xu-KyaTWth",
        "colab": {
          "base_uri": "https://localhost:8080/",
          "height": 456
        },
        "outputId": "283d5bb1-7100-46a3-eee9-93452c82a94e"
      },
      "execution_count": 8,
      "outputs": [
        {
          "output_type": "stream",
          "name": "stdout",
          "text": [
            "\n",
            "an - Ordenar ascendentemente por nombre\n",
            "aa - Ordenar ascendentemente por apellido\n",
            "dn - Ordenar descendentemente por nombre\n",
            "da - Ordenar descendentemente por apellido\n",
            "Ingrese una opcion: \n",
            "caseres\n",
            "La opcion ingresada es incorrecta\n"
          ]
        },
        {
          "output_type": "error",
          "ename": "NameError",
          "evalue": "name 'tupla_estudiantes' is not defined",
          "traceback": [
            "\u001b[0;31m---------------------------------------------------------------------------\u001b[0m",
            "\u001b[0;31mNameError\u001b[0m                                 Traceback (most recent call last)",
            "\u001b[0;32m<ipython-input-8-f2378a531a92>\u001b[0m in \u001b[0;36m<cell line: 18>\u001b[0;34m()\u001b[0m\n\u001b[1;32m     16\u001b[0m \u001b[0;32melse\u001b[0m\u001b[0;34m:\u001b[0m\u001b[0;34m\u001b[0m\u001b[0;34m\u001b[0m\u001b[0m\n\u001b[1;32m     17\u001b[0m   \u001b[0mprint\u001b[0m\u001b[0;34m(\u001b[0m\u001b[0;34m\"La opcion ingresada es incorrecta\"\u001b[0m\u001b[0;34m)\u001b[0m\u001b[0;34m\u001b[0m\u001b[0;34m\u001b[0m\u001b[0m\n\u001b[0;32m---> 18\u001b[0;31m \u001b[0;32mfor\u001b[0m \u001b[0mestudiante\u001b[0m \u001b[0;32min\u001b[0m \u001b[0mtupla_estudiantes\u001b[0m\u001b[0;34m:\u001b[0m\u001b[0;34m\u001b[0m\u001b[0;34m\u001b[0m\u001b[0m\n\u001b[0m\u001b[1;32m     19\u001b[0m   \u001b[0mprint\u001b[0m\u001b[0;34m(\u001b[0m\u001b[0mestudiante\u001b[0m\u001b[0;34m)\u001b[0m\u001b[0;34m\u001b[0m\u001b[0;34m\u001b[0m\u001b[0m\n",
            "\u001b[0;31mNameError\u001b[0m: name 'tupla_estudiantes' is not defined"
          ]
        }
      ]
    },
    {
      "cell_type": "markdown",
      "source": [
        "9. Agrega un dato en la posición siguiente a la de tu nombre en el nuevo formato de tupla. Para esto solicita al usuario su nombre y apellido, almacena estos datos en una tupla y agrega la misma a la lista \"tupla_estudiantes\""
      ],
      "metadata": {
        "id": "mtnmvoZ9TXii"
      }
    },
    {
      "cell_type": "code",
      "source": [
        "pass"
      ],
      "metadata": {
        "id": "RSXz_XcvT0Nc"
      },
      "execution_count": null,
      "outputs": []
    },
    {
      "cell_type": "markdown",
      "source": [
        "10. - Pedir al usuario un nombre y mostrar todos los estudiantes que tengan ese nombre.\n",
        "  - Hacer lo mismo con un apellido.\n"
      ],
      "metadata": {
        "id": "dY4y7OVPT1FT"
      }
    },
    {
      "cell_type": "code",
      "source": [
        "nombre = input(\"Ingrese un nombre:\").title()\n",
        "for alumno in alumnos:\n",
        "  if nombre in alumno:\n",
        "    print(alumno)\n",
        "apellido = input(\" Ingrese un apellido:\").title()\n",
        "for alumno in alumnos:\n",
        "  if apellido in alumno:\n",
        "    print(alumno)"
      ],
      "metadata": {
        "id": "bVTVfjH4VMBM",
        "colab": {
          "base_uri": "https://localhost:8080/"
        },
        "outputId": "5fe532f0-f3f4-4004-a9f0-723c08722363"
      },
      "execution_count": 6,
      "outputs": [
        {
          "output_type": "stream",
          "name": "stdout",
          "text": [
            "Ingrese un nombre:victoria\n",
            "Flores, Victoria Agustina\n",
            "Lopez, Victoria Constanza\n",
            " Ingrese un apellido:flores\n",
            "Flores, Victoria Agustina\n",
            "Flores Cardozo, Agustina Tiara\n",
            "Sanchez Flores, Matías Agustín\n"
          ]
        }
      ]
    },
    {
      "cell_type": "markdown",
      "source": [
        "11. Pedir un nombre al usuario y eliminar todos los registros donde se encuentre un estudiante con el nombre ingresado.\n"
      ],
      "metadata": {
        "id": "7zdJLrqXVM30"
      }
    },
    {
      "cell_type": "code",
      "source": [
        "pass"
      ],
      "metadata": {
        "id": "3_rnimG_VQr6"
      },
      "execution_count": null,
      "outputs": []
    },
    {
      "cell_type": "markdown",
      "source": [
        "12. Pedir dos apellidos al usuario, y reemplazar el primer apellido por el segundo en todos los registros donde se encuentre."
      ],
      "metadata": {
        "id": "DGU_hs0BVRfa"
      }
    },
    {
      "cell_type": "code",
      "source": [
        "pass"
      ],
      "metadata": {
        "id": "ghxBxrzTV6aL"
      },
      "execution_count": null,
      "outputs": []
    }
  ]
}